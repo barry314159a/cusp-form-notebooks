{
 "cells": [
  {
   "cell_type": "code",
   "execution_count": 1,
   "metadata": {},
   "outputs": [
    {
     "name": "stdout",
     "output_type": "stream",
     "text": [
      "ok\n"
     ]
    }
   ],
   "source": [
    "D.<x> = PolynomialRing(QQ)\n",
    "R.<x> = PolynomialRing(QQ)\n",
    "S = PowerSeriesRing(QQ,'x', default_prec=300)\n",
    "L=LaurentSeriesRing(QQ,'x', default_prec=300)\n",
    "#S.<x,y>=PowerSeriesRing(QQ,default_prec=300)\n",
    "# Using \"R = PolynomialRing(QQ,'x')\" produces an error.\n",
    "# Yet using S as defined here is fine (see definition of Fraleigh4 below)\n",
    "# But S = PowerSeriesRing(QQ,'x','y') also produces an error.\n",
    "R.<x> = PolynomialRing(QQ)\n",
    "Scplx= PowerSeriesRing(CC,'x',default_prec=300)\n",
    "def pochhammer(x,n):\n",
    "    return product ([x+k for k in [0..n-1]])\n",
    "def cRaleigh2(alpha,beta,nu):\n",
    "    pchhmrA = pochhammer(alpha,nu)\n",
    "    pchhmrB = pochhammer(beta,nu)\n",
    "    fnu=factorial(nu)\n",
    "    answer = D(pchhmrA*pchhmrB/fnu^2)\n",
    "    return answer\n",
    "def term(alpha,beta,p):\n",
    "    return D(1/(alpha + p) + 1/(beta + p) - 2/(1 + p))\n",
    "def eRaleigh(alpha, beta, nu):\n",
    "    return D(sum([term(alpha, beta, p) for p in [0..nu - 1]]))\n",
    "def FstarRaleigh2(alpha,beta,u,terms):\n",
    "    fsr = sum([cRaleigh2(alpha, beta, nu)*eRaleigh(alpha,beta,nu)*u^nu for nu in [1..terms]])\n",
    "    return D(fsr)\n",
    "def Fraleigh2(alpha,beta,u,terms): \n",
    "    return D(sum([cRaleigh2(alpha,beta,nu)*u^nu for nu in [0..terms]]))\n",
    "def FstarRaleigh3(n,m,x):\n",
    "    alpha = (1/2-1/m)/2\n",
    "    beta = (1/2+1/m)/2\n",
    "    fsr2 = FstarRaleigh2(alpha,beta,x,n)\n",
    "    return D(fsr2)\n",
    "def Fraleigh4(n,m,x):\n",
    "    alpha = (1/2-1/m)/2\n",
    "    beta = (1/2+1/m)/2\n",
    "    fr2 = Fraleigh2(alpha,beta,x,n)\n",
    "    return D(fr2)\n",
    "def exNo3c(n,m):\n",
    "    a1 = S(x)*exp(S(FstarRaleigh3(n,m,x)/Fraleigh4(n,m,x))).O(2*n)\n",
    "    # S(x) instead of x in df of a1 to avoid an error message\n",
    "    # after use of the stripQuotationMarks command below.\n",
    "    a2 = S(a1).O(n+1)\n",
    "    return a2 # applying S to argument of exp is key.\n",
    "def J(n,m):\n",
    "    exn = exNo3c(n+2,m)\n",
    "    jnm = 1/exn.reverse()\n",
    "    return jnm.O(n+1) # Jtest is faster than J, and they agree.\n",
    "def normalJ(n,m):\n",
    "    f = J(n,m)\n",
    "    return f.truncate(n+1)\n",
    "def Jcoefficient(n,m):\n",
    "    f = J(n+2,m)\n",
    "    f1 = f.truncate(n+1)\n",
    "    f1=f1.list()\n",
    "    f1=Set(f1)\n",
    "    g1 = f.truncate(n)\n",
    "    g1 = g1.list()\n",
    "    g1 = set(g1)\n",
    "    h = f1.difference(g1)\n",
    "    h = h.list()\n",
    "    return h[0]\n",
    "def xjNew(n,m):\n",
    "    def xjNewStep(n,m):\n",
    "        f=J(n,m)\n",
    "        fl=f.list()\n",
    "        rt=0\n",
    "        for i in [0..len(fl)-1]:\n",
    "            rt=rt+fl[i]*x**i*(m**3*2**6)**i\n",
    "        return rt\n",
    "    return xjNewStep(n-1,m)\n",
    "def j(n,m):return L(xjNew(n,m)/x)\n",
    "\n",
    "def H6(n,m):\n",
    "    def base6(n,m):\n",
    "        jay=J(n+1,m)\n",
    "        num=(x*derivative(jay,x))^m # chain rule; variable is tau not x.\n",
    "        den = expand(jay^(m-1)*(jay-1))\n",
    "        return L((-1)^m*(num/den)).O(n+1)\n",
    "    return S(base6(n,m)^(1/(m-2))).polynomial()\n",
    " #if argument is an S type then 'polynomial' takes no argument.\n",
    "\n",
    "def H6strike(n,m): #this applies the strike operator to the version of H4 that *is*\n",
    "    #in the Integers paper.\n",
    "    poly=H6(n,m)\n",
    "    polylist=poly.list()\n",
    "    polydegree=poly.degree()\n",
    "    answer=sum(polylist[k]*(x*m^3*2^6)^k for k in [0..polydegree])\n",
    "    return answer\n",
    "\n",
    "def polynomialCoefficient(n,poly):\n",
    "    return poly.list()[n]\n",
    "def factorpairToFactor(factorpair):\n",
    "    (monomial,exponent)=factorpair\n",
    "    return monomial^exponent\n",
    "def numericalfactor(polynomial):\n",
    "    fp=polynomial.factor()\n",
    "    lst=[factorpairToFactor(factorpair) for factorpair in fp]\n",
    "    return polynomial/product(lst)\n",
    "def lastfactor(polynomial):\n",
    "    fp=polynomial.factor()\n",
    "    fp=FiniteEnumeratedSet(fp)\n",
    "    return factorpairToFactor(fp.last())\n",
    "def reduced(polynomial):\n",
    "    return numericalfactor(polynomial)*lastfactor(polynomial)\n",
    "def stripQuotationMarks(string):\n",
    "    var('x')\n",
    "    return sage_eval(string,locals={'x':x})\n",
    "print(\"ok\")"
   ]
  },
  {
   "cell_type": "code",
   "execution_count": 4,
   "metadata": {},
   "outputs": [
    {
     "data": {
      "text/plain": [
       "x^-1 + 744 + 196884*x + 21493760*x^2 + 864299970*x^3 + 20245856256*x^4"
      ]
     },
     "execution_count": 4,
     "metadata": {},
     "output_type": "execute_result"
    }
   ],
   "source": [
    "j(5,3)"
   ]
  },
  {
   "cell_type": "code",
   "execution_count": 2,
   "metadata": {},
   "outputs": [
    {
     "name": "stdout",
     "output_type": "stream",
     "text": [
      "-3647/35664401793024*x^5 - 7399/123834728448*x^4 - 427/17915904*x^3 - 77/13824*x^2 - 7/24*x + 1\n",
      "<class 'sage.rings.polynomial.polynomial_rational_flint.Polynomial_rational_flint'>\n"
     ]
    }
   ],
   "source": [
    "print(H6(5,3));print(type(H6(5,3)))"
   ]
  },
  {
   "cell_type": "code",
   "execution_count": 15,
   "metadata": {},
   "outputs": [
    {
     "name": "stdout",
     "output_type": "stream",
     "text": [
      "-1575504*x^5 - 532728*x^4 - 122976*x^3 - 16632*x^2 - 504*x + 1\n"
     ]
    }
   ],
   "source": [
    "print(H6strike(5,3))"
   ]
  },
  {
   "cell_type": "code",
   "execution_count": 3,
   "metadata": {},
   "outputs": [
    {
     "data": {
      "text/plain": [
       "-315/34359738368*x^5 - 185/268435456*x^4 - 35/262144*x^3 - 25/4096*x^2 - 5/16*x + 1"
      ]
     },
     "execution_count": 3,
     "metadata": {},
     "output_type": "execute_result"
    }
   ],
   "source": [
    "H6(5,4)"
   ]
  },
  {
   "cell_type": "code",
   "execution_count": 4,
   "metadata": {},
   "outputs": [
    {
     "data": {
      "text/plain": [
       "-3647/35664401793024*x^5 - 7399/123834728448*x^4 - 427/17915904*x^3 - 77/13824*x^2 - 7/24*x + 1"
      ]
     },
     "execution_count": 4,
     "metadata": {},
     "output_type": "execute_result"
    }
   ],
   "source": [
    "H6(5,3)"
   ]
  },
  {
   "cell_type": "code",
   "execution_count": 2,
   "metadata": {},
   "outputs": [
    {
     "name": "stdout",
     "output_type": "stream",
     "text": [
      "-3647/35664401793024*x^5 - 7399/123834728448*x^4 - 427/17915904*x^3 - 77/13824*x^2 - 7/24*x + 1\n",
      "[1, -504]\n",
      "[2, -16632]\n",
      "[3, -122976]\n",
      "[4, -532728]\n",
      "[5, -1575504]\n"
     ]
    }
   ],
   "source": [
    "poly=H6(5,3)\n",
    "print(poly)\n",
    "for k in [1..5]:\n",
    "    print([k,-504*sigma(k,5)])"
   ]
  },
  {
   "cell_type": "code",
   "execution_count": 18,
   "metadata": {},
   "outputs": [
    {
     "name": "stdout",
     "output_type": "stream",
     "text": [
      "-1575504*x^5 - 532728*x^4 - 122976*x^3 - 16632*x^2 - 504*x + 1\n",
      "[1, -504]\n",
      "[2, -16632]\n",
      "[3, -122976]\n",
      "[4, -532728]\n",
      "[5, -1575504]\n"
     ]
    }
   ],
   "source": [
    "poly=H6strike(5,3)\n",
    "print(poly)\n",
    "for k in [1..5]:\n",
    "    print([k,-504*sigma(k,5)])"
   ]
  },
  {
   "cell_type": "code",
   "execution_count": null,
   "metadata": {},
   "outputs": [],
   "source": [
    "data=[]\n",
    "for m in [3..400]:\n",
    "    if 10 in divisors(m):\n",
    "        print m\n",
    "    data=data+[[m,H6(100,m)]]\n",
    "import pickle\n",
    "wfile = open('/Users/barrybrent/8mar21no13.txt','a')\n",
    "s = pickle.dumps(str(data))\n",
    "wfile.write(s)\n",
    "wfile.close()"
   ]
  }
 ],
 "metadata": {
  "kernelspec": {
   "display_name": "SageMath 9.6",
   "language": "sage",
   "name": "sagemath-9.6"
  },
  "language_info": {
   "codemirror_mode": {
    "name": "ipython",
    "version": 3
   },
   "file_extension": ".py",
   "mimetype": "text/x-python",
   "name": "python",
   "nbconvert_exporter": "python",
   "pygments_lexer": "ipython3",
   "version": "3.10.3"
  }
 },
 "nbformat": 4,
 "nbformat_minor": 4
}
