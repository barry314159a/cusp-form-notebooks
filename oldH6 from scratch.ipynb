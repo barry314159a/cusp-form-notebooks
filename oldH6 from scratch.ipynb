{
 "cells": [
  {
   "cell_type": "code",
   "execution_count": 1,
   "metadata": {},
   "outputs": [],
   "source": [
    "D.<x> = PolynomialRing(QQ)\n",
    "R.<x> = PolynomialRing(QQ)\n",
    "S = PowerSeriesRing(QQ,'x', default_prec=300)\n",
    "L=LaurentSeriesRing(QQ,'x', default_prec=300)\n",
    "#S.<x,y>=PowerSeriesRing(QQ,default_prec=300)\n",
    "# Using \"R = PolynomialRing(QQ,'x')\" produces an error.\n",
    "# Yet using S as defined here is fine (see definition of Fraleigh4 below)\n",
    "# But S = PowerSeriesRing(QQ,'x','y') also produces an error.\n",
    "R.<x> = PolynomialRing(QQ)\n",
    "Scplx= PowerSeriesRing(CC,'x',default_prec=300)\n",
    "def pochhammer(x,n):\n",
    "    return product ([x+k for k in [0..n-1]])\n",
    "def cRaleigh2(alpha,beta,nu):\n",
    "    pchhmrA = pochhammer(alpha,nu)\n",
    "    pchhmrB = pochhammer(beta,nu)\n",
    "    fnu=factorial(nu)\n",
    "    answer = D(pchhmrA*pchhmrB/fnu^2)\n",
    "    return answer\n",
    "def term(alpha,beta,p):\n",
    "    return D(1/(alpha + p) + 1/(beta + p) - 2/(1 + p))\n",
    "def eRaleigh(alpha, beta, nu):\n",
    "    return D(sum([term(alpha, beta, p) for p in [0..nu - 1]]))\n",
    "def FstarRaleigh2(alpha,beta,u,terms):\n",
    "    fsr = sum([cRaleigh2(alpha, beta, nu)*eRaleigh(alpha,beta,nu)*u^nu for nu in [1..terms]])\n",
    "    return D(fsr)\n",
    "def Fraleigh2(alpha,beta,u,terms): \n",
    "    return D(sum([cRaleigh2(alpha,beta,nu)*u^nu for nu in [0..terms]]))\n",
    "def FstarRaleigh3(n,m,x):\n",
    "    alpha = (1/2-1/m)/2\n",
    "    beta = (1/2+1/m)/2\n",
    "    fsr2 = FstarRaleigh2(alpha,beta,x,n)\n",
    "    return D(fsr2)\n",
    "def Fraleigh4(n,m,x):\n",
    "    alpha = (1/2-1/m)/2\n",
    "    beta = (1/2+1/m)/2\n",
    "    fr2 = Fraleigh2(alpha,beta,x,n)\n",
    "    return D(fr2)\n",
    "def exNo3c(n,m):\n",
    "    a1 = S(x)*exp(S(FstarRaleigh3(n,m,x)/Fraleigh4(n,m,x))).O(2*n)\n",
    "    # S(x) instead of x in df of a1 to avoid an error message\n",
    "    # after use of the stripQuotationMarks command below.\n",
    "    a2 = S(a1).O(n+1)\n",
    "    return a2 # applying S to argument of exp is key.\n",
    "def J(n,m):\n",
    "    exn = exNo3c(n+2,m)\n",
    "    jnm = 1/exn.reverse()\n",
    "    return jnm.O(n+1) # Jtest is faster than J, and they agree.\n",
    "def normalJ(n,m):\n",
    "    f = J(n,m)\n",
    "    return f.truncate(n+1)\n",
    "def Jcoefficient(n,m):\n",
    "    f = J(n+2,m)\n",
    "    f1 = f.truncate(n+1)\n",
    "    f1=f1.list()\n",
    "    f1=Set(f1)\n",
    "    g1 = f.truncate(n)\n",
    "    g1 = g1.list()\n",
    "    g1 = set(g1)\n",
    "    h = f1.difference(g1)\n",
    "    h = h.list()\n",
    "    return h[0]\n",
    "def xjNew(n,m):\n",
    "    def xjNewStep(n,m):\n",
    "        f=J(n,m)\n",
    "        fl=f.list()\n",
    "        rt=0\n",
    "        for i in [0..len(fl)-1]:\n",
    "            rt=rt+fl[i]*x**i*(m**3*2**6)**i\n",
    "        return rt\n",
    "    return xjNewStep(n-1,m)\n",
    "def j(n,m):return L(xjNew(n,m)/x)\n",
    "def H4(n,m):\n",
    "    jay=j(n+1,m)\n",
    "    djay=x*derivative(jay,x) # bc variable is tau, not x; chain rule.\n",
    "    numerator = djay^2\n",
    "    denominator = jay*(jay-2^6*m^3)\n",
    "    return ((S(numerator/denominator)^(1/(m-2))).O(n+1)).polynomial()\n",
    "def H6(n,m): #different than in draft 4mar21 and Mathematica.\n",
    "    def base6(n,m):\n",
    "        jay=j(n+1,m)\n",
    "        num=(x*derivative(jay,x))^m # chain rule; variable is tau not x.\n",
    "        den = expand(jay^(m-1)*(j(n+1,m)-2^6*m^3))\n",
    "        return L((-1)^m*(num/den)).O(n+1)\n",
    "    return S(base6(n,m)^(1/(m-2))).polynomial()\n",
    "def polynomialCoefficient(n,poly):\n",
    "    return poly.list()[n]\n",
    "def factorpairToFactor(factorpair):\n",
    "    (monomial,exponent)=factorpair\n",
    "    return monomial^exponent\n",
    "def numericalfactor(polynomial):\n",
    "    fp=polynomial.factor()\n",
    "    lst=[factorpairToFactor(factorpair) for factorpair in fp]\n",
    "    return polynomial/product(lst)\n",
    "def lastfactor(polynomial):\n",
    "    fp=polynomial.factor()\n",
    "    fp=FiniteEnumeratedSet(fp)\n",
    "    return factorpairToFactor(fp.last())\n",
    "def reduced(polynomial):\n",
    "    return numericalfactor(polynomial)*lastfactor(polynomial)\n",
    "def stripQuotationMarks(string):\n",
    "    var('x')\n",
    "    return sage_eval(string,locals={'x':x})"
   ]
  },
  {
   "cell_type": "code",
   "execution_count": 4,
   "metadata": {},
   "outputs": [
    {
     "data": {
      "text/plain": [
       "x^-1 + 744 + 196884*x + 21493760*x^2 + 864299970*x^3 + 20245856256*x^4"
      ]
     },
     "execution_count": 4,
     "metadata": {},
     "output_type": "execute_result"
    }
   ],
   "source": [
    "j(5,3)"
   ]
  },
  {
   "cell_type": "code",
   "execution_count": 17,
   "metadata": {},
   "outputs": [
    {
     "name": "stdout",
     "output_type": "stream",
     "text": [
      "-1575504*x^5 - 532728*x^4 - 122976*x^3 - 16632*x^2 - 504*x + 1\n",
      "<type 'sage.rings.polynomial.polynomial_rational_flint.Polynomial_rational_flint'>\n"
     ]
    }
   ],
   "source": [
    "print(H6(5,3));print(type(H6(5,3)))"
   ]
  },
  {
   "cell_type": "code",
   "execution_count": 15,
   "metadata": {},
   "outputs": [
    {
     "data": {
      "text/plain": [
       "-10569646080*x^5 - 193986560*x^4 - 9175040*x^3 - 102400*x^2 - 1280*x + 1"
      ]
     },
     "execution_count": 15,
     "metadata": {},
     "output_type": "execute_result"
    }
   ],
   "source": [
    "H6(5,4)"
   ]
  },
  {
   "cell_type": "code",
   "execution_count": 7,
   "metadata": {},
   "outputs": [
    {
     "data": {
      "text/plain": [
       "-1575504*x^5 - 532728*x^4 - 122976*x^3 - 16632*x^2 - 504*x + 1"
      ]
     },
     "execution_count": 7,
     "metadata": {},
     "output_type": "execute_result"
    }
   ],
   "source": [
    "H6(5,3)\n",
    "    "
   ]
  },
  {
   "cell_type": "code",
   "execution_count": 6,
   "metadata": {},
   "outputs": [
    {
     "name": "stdout",
     "output_type": "stream",
     "text": [
      "[1, -504, -504]\n",
      "[2, -16632, -16632]\n",
      "[3, -122976, -122976]\n",
      "[4, -532728, -532728]\n",
      "[5, -1575504, -1575504]\n"
     ]
    }
   ],
   "source": [
    "# correct signs, at the expense of deviating from the\n",
    "# normalization in the 4mar21 draft.\n",
    "poly=H6(5,3)\n",
    "plist=poly.list()\n",
    "for k in [1..5]:\n",
    "    print [k,-504*sigma(k,5),plist[k]]"
   ]
  },
  {
   "cell_type": "code",
   "execution_count": 4,
   "metadata": {},
   "outputs": [
    {
     "name": "stdout",
     "output_type": "stream",
     "text": [
      "[0, 0, 0, 0, 0, 0, 0, 0, 0, 0, 0, 0, 0, 0, 0, 0, 0, 0, 0, 0, 0, 0, 0, 0, 0, 0, 0, 0, 0, 0, 0, 0, 0, 0, 0, 0, 0, 0, 0, 0, 0, 0, 0, 0, 0, 0, 0, 0, 0, 0, 0, 0, 0, 0, 0, 0, 0, 0, 0, 0, 0, 0, 0, 0, 0, 0, 0, 0, 0, 0, 0, 0, 0, 0, 0, 0, 0, 0, 0, 0, 0, 0, 0, 0, 0, 0, 0, 0, 0, 0, 0, 0, 0, 0, 0, 0, 0, 0, 0, 0]\n"
     ]
    }
   ],
   "source": [
    "diffs=[]\n",
    "poly=H6(100,3)\n",
    "plist=poly.list()\n",
    "for k in [1..poly.degree()]:\n",
    "    diffs=diffs+[-504*sigma(k,5)-plist[k]]\n",
    "print diffs"
   ]
  },
  {
   "cell_type": "code",
   "execution_count": 11,
   "metadata": {},
   "outputs": [
    {
     "name": "stdout",
     "output_type": "stream",
     "text": [
      "3\n",
      "4\n",
      "5\n",
      "6\n",
      "7\n",
      "8\n",
      "9\n"
     ]
    }
   ],
   "source": [
    "import pickle\n",
    "wfile = open('/Users/barrybrent/7mar21no2.txt','a')\n",
    "data=[]\n",
    "for m in [3..9]:\n",
    "    if 1 in divisors(m):\n",
    "        print(m)\n",
    "    poly=H6(12,m)\n",
    "    data=data+[[m,poly.list()]]\n",
    "s = pickle.dumps(str(data))\n",
    "wfile.write(s)\n",
    "wfile.close()"
   ]
  },
  {
   "cell_type": "code",
   "execution_count": 12,
   "metadata": {},
   "outputs": [
    {
     "name": "stdout",
     "output_type": "stream",
     "text": [
      "[[3, [1, -504, -16632, -122976, -532728, -1575504, -4058208, -8471232, -17047800, -29883672, -51991632, -81170208, -129985632]], [4, [1, -1280, -102400, -9175040, -193986560, -10569646080, -187904819200, -7387343749120, -100674033418240, -4161651511132160, -55415386039910400, -1874623344892968960, -23328646069779169280]], [5, [1, -2600, -351000, -276380000/3, -29091725000/3, -461573190000, -884466669580000/9, -42731073946600000/9, -2925509932307625000/7, -22528177776031841875000/567, -764196116461702063750000/567, -4519028573198488719500000/21, -20593777488239481724217500000/1701]], [6, [1, -4608, -884736, -528482304, -125627793408, -14843406974976, -3087428650795008, -1013309916158361600, -66148871326817845248, -20254524992933087674368, -3060093480899530098475008, -326409971295949877170667520, -63367055760920402821398921216]], [7, [1, -7448, -1824760, -2226207200, -932746146360, -1088046362821712/5, -281820099671626208/5, -36817178522254305728, -9662291816318397239480, -1213950820176693674251960, -216450295712184774622406193232/225, -33142170690767473552416413934496/225, -7153475007749245835243053988962528/165]], [8, [1, -11264, -3244032, -22930259968/3, -4949245165568, -1967054219378688, -31126781244370583552/45, -10460958426094700068864/15, -1994208836797411618717696/5, -32730588438870286449334288384/405, -535098079476290824830950834176/9, -8305591186946278919356710851182592/225, -34390586896119595058157965956410769408/6075]], [9, [1, -16200, -5103000, -22612413600, -20815534013400, -12901642068717360, -6168086064871849440, -61476583919414859576000/7, -61327352741141403721762920/7, -3219623043870633085999719720, -2048195988258583055268510504720, -2707182098837362548118160529299424, -10035922964852199337765223204827884960/11]]]\n"
     ]
    }
   ],
   "source": [
    "import pickle\n",
    "rfile = open('/Users/barrybrent/7mar21no2.txt','r')\n",
    "data=[]\n",
    "rs=pickle.load(rfile)\n",
    "rfile.close()\n",
    "s=stripQuotationMarks(rs)\n",
    "print(s)"
   ]
  },
  {
   "cell_type": "code",
   "execution_count": 3,
   "metadata": {},
   "outputs": [
    {
     "name": "stdout",
     "output_type": "stream",
     "text": [
      "3\n",
      "4\n",
      "5\n",
      "6\n",
      "7\n",
      "8\n",
      "9\n"
     ]
    }
   ],
   "source": [
    "# Had to shut down & restart to avoid an error message\n",
    "# bc two looping routines involving H6 throws one..\n",
    "import pickle\n",
    "wfile = open('/Users/barrybrent/7mar21no3.txt','a')\n",
    "data=[]\n",
    "for m in [3..9]:\n",
    "    if 1 in divisors(m):\n",
    "        print(m)\n",
    "    poly=H6(12,m)\n",
    "    data=data+[[m,poly]]\n",
    "s = pickle.dumps(str(data))\n",
    "wfile.write(s)\n",
    "wfile.close()"
   ]
  },
  {
   "cell_type": "code",
   "execution_count": 4,
   "metadata": {},
   "outputs": [
    {
     "name": "stdout",
     "output_type": "stream",
     "text": [
      "[[3, -129985632*x^12 - 81170208*x^11 - 51991632*x^10 - 29883672*x^9 - 17047800*x^8 - 8471232*x^7 - 4058208*x^6 - 1575504*x^5 - 532728*x^4 - 122976*x^3 - 16632*x^2 - 504*x + 1], [4, -23328646069779169280*x^12 - 1874623344892968960*x^11 - 55415386039910400*x^10 - 4161651511132160*x^9 - 100674033418240*x^8 - 7387343749120*x^7 - 187904819200*x^6 - 10569646080*x^5 - 193986560*x^4 - 9175040*x^3 - 102400*x^2 - 1280*x + 1], [5, -20593777488239481724217500000/1701*x^12 - 4519028573198488719500000/21*x^11 - 764196116461702063750000/567*x^10 - 22528177776031841875000/567*x^9 - 2925509932307625000/7*x^8 - 42731073946600000/9*x^7 - 884466669580000/9*x^6 - 461573190000*x^5 - 29091725000/3*x^4 - 276380000/3*x^3 - 351000*x^2 - 2600*x + 1], [6, -63367055760920402821398921216*x^12 - 326409971295949877170667520*x^11 - 3060093480899530098475008*x^10 - 20254524992933087674368*x^9 - 66148871326817845248*x^8 - 1013309916158361600*x^7 - 3087428650795008*x^6 - 14843406974976*x^5 - 125627793408*x^4 - 528482304*x^3 - 884736*x^2 - 4608*x + 1], [7, -7153475007749245835243053988962528/165*x^12 - 33142170690767473552416413934496/225*x^11 - 216450295712184774622406193232/225*x^10 - 1213950820176693674251960*x^9 - 9662291816318397239480*x^8 - 36817178522254305728*x^7 - 281820099671626208/5*x^6 - 1088046362821712/5*x^5 - 932746146360*x^4 - 2226207200*x^3 - 1824760*x^2 - 7448*x + 1], [8, -34390586896119595058157965956410769408/6075*x^12 - 8305591186946278919356710851182592/225*x^11 - 535098079476290824830950834176/9*x^10 - 32730588438870286449334288384/405*x^9 - 1994208836797411618717696/5*x^8 - 10460958426094700068864/15*x^7 - 31126781244370583552/45*x^6 - 1967054219378688*x^5 - 4949245165568*x^4 - 22930259968/3*x^3 - 3244032*x^2 - 11264*x + 1], [9, -10035922964852199337765223204827884960/11*x^12 - 2707182098837362548118160529299424*x^11 - 2048195988258583055268510504720*x^10 - 3219623043870633085999719720*x^9 - 61327352741141403721762920/7*x^8 - 61476583919414859576000/7*x^7 - 6168086064871849440*x^6 - 12901642068717360*x^5 - 20815534013400*x^4 - 22612413600*x^3 - 5103000*x^2 - 16200*x + 1]]\n"
     ]
    }
   ],
   "source": [
    "import pickle\n",
    "rfile = open('/Users/barrybrent/7mar21no3.txt','r')\n",
    "data=[]\n",
    "rs=pickle.load(rfile)\n",
    "rfile.close()\n",
    "s=stripQuotationMarks(rs)\n",
    "print(s)"
   ]
  },
  {
   "cell_type": "code",
   "execution_count": 18,
   "metadata": {},
   "outputs": [
    {
     "name": "stdout",
     "output_type": "stream",
     "text": [
      "3\n",
      "4\n",
      "5\n",
      "6\n",
      "7\n",
      "8\n",
      "9\n",
      "10\n"
     ]
    }
   ],
   "source": [
    "data=[]\n",
    "for m in [3..10]:\n",
    "    print m\n",
    "    data=data+[[m,H6(5,m)]]\n",
    "import pickle\n",
    "wfile = open('/Users/barrybrent/8mar21no11.txt','a')\n",
    "s = pickle.dumps(str(data))\n",
    "wfile.write(s)\n",
    "wfile.close()"
   ]
  },
  {
   "cell_type": "code",
   "execution_count": 20,
   "metadata": {},
   "outputs": [
    {
     "name": "stdout",
     "output_type": "stream",
     "text": [
      "-1575504*x^5 - 532728*x^4 - 122976*x^3 - 16632*x^2 - 504*x + 1\n",
      "--------------------------------------------------------------------------------------\n",
      "-10569646080*x^5 - 193986560*x^4 - 9175040*x^3 - 102400*x^2 - 1280*x + 1\n",
      "--------------------------------------------------------------------------------------\n",
      "-461573190000*x^5 - 29091725000/3*x^4 - 276380000/3*x^3 - 351000*x^2 - 2600*x + 1\n",
      "--------------------------------------------------------------------------------------\n",
      "-14843406974976*x^5 - 125627793408*x^4 - 528482304*x^3 - 884736*x^2 - 4608*x + 1\n",
      "--------------------------------------------------------------------------------------\n"
     ]
    }
   ],
   "source": [
    "import pickle\n",
    "rfile = open('/Users/barrybrent/8mar21no11.txt','r')\n",
    "data=[]\n",
    "rs=pickle.load(rfile)\n",
    "rfile.close()\n",
    "s=stripQuotationMarks(rs)\n",
    "for k in  [0..3]:\n",
    "    print s[k][1]\n",
    "    print \"--------------------------------------------------------------------------------------\""
   ]
  },
  {
   "cell_type": "code",
   "execution_count": 2,
   "metadata": {},
   "outputs": [
    {
     "name": "stdout",
     "output_type": "stream",
     "text": [
      "10\n",
      "20\n",
      "30\n",
      "40\n",
      "50\n",
      "60\n",
      "70\n",
      "80\n",
      "90\n",
      "100\n",
      "110\n",
      "120\n"
     ]
    },
    {
     "ename": "KeyboardInterrupt",
     "evalue": "",
     "output_type": "error",
     "traceback": [
      "\u001b[0;31m---------------------------------------------------------------------------\u001b[0m",
      "\u001b[0;31mKeyboardInterrupt\u001b[0m                         Traceback (most recent call last)",
      "\u001b[0;32m<ipython-input-2-9e06ef6f000e>\u001b[0m in \u001b[0;36m<module>\u001b[0;34m()\u001b[0m\n\u001b[1;32m      3\u001b[0m     \u001b[0;32mif\u001b[0m \u001b[0mInteger\u001b[0m\u001b[0;34m(\u001b[0m\u001b[0;36m10\u001b[0m\u001b[0;34m)\u001b[0m \u001b[0;32min\u001b[0m \u001b[0mdivisors\u001b[0m\u001b[0;34m(\u001b[0m\u001b[0mm\u001b[0m\u001b[0;34m)\u001b[0m\u001b[0;34m:\u001b[0m\u001b[0;34m\u001b[0m\u001b[0m\n\u001b[1;32m      4\u001b[0m         \u001b[0;32mprint\u001b[0m \u001b[0mm\u001b[0m\u001b[0;34m\u001b[0m\u001b[0m\n\u001b[0;32m----> 5\u001b[0;31m     \u001b[0mdata\u001b[0m\u001b[0;34m=\u001b[0m\u001b[0mdata\u001b[0m\u001b[0;34m+\u001b[0m\u001b[0;34m[\u001b[0m\u001b[0;34m[\u001b[0m\u001b[0mm\u001b[0m\u001b[0;34m,\u001b[0m\u001b[0mH6\u001b[0m\u001b[0;34m(\u001b[0m\u001b[0mInteger\u001b[0m\u001b[0;34m(\u001b[0m\u001b[0;36m100\u001b[0m\u001b[0;34m)\u001b[0m\u001b[0;34m,\u001b[0m\u001b[0mm\u001b[0m\u001b[0;34m)\u001b[0m\u001b[0;34m]\u001b[0m\u001b[0;34m]\u001b[0m\u001b[0;34m\u001b[0m\u001b[0m\n\u001b[0m\u001b[1;32m      6\u001b[0m \u001b[0;32mimport\u001b[0m \u001b[0mpickle\u001b[0m\u001b[0;34m\u001b[0m\u001b[0m\n\u001b[1;32m      7\u001b[0m \u001b[0mwfile\u001b[0m \u001b[0;34m=\u001b[0m \u001b[0mopen\u001b[0m\u001b[0;34m(\u001b[0m\u001b[0;34m'/Users/barrybrent/8mar21no13.txt'\u001b[0m\u001b[0;34m,\u001b[0m\u001b[0;34m'a'\u001b[0m\u001b[0;34m)\u001b[0m\u001b[0;34m\u001b[0m\u001b[0m\n",
      "\u001b[0;32m<ipython-input-1-fa7e7a52edc4>\u001b[0m in \u001b[0;36mH6\u001b[0;34m(n, m)\u001b[0m\n\u001b[1;32m     82\u001b[0m         \u001b[0mden\u001b[0m \u001b[0;34m=\u001b[0m \u001b[0mexpand\u001b[0m\u001b[0;34m(\u001b[0m\u001b[0mjay\u001b[0m\u001b[0;34m**\u001b[0m\u001b[0;34m(\u001b[0m\u001b[0mm\u001b[0m\u001b[0;34m-\u001b[0m\u001b[0mInteger\u001b[0m\u001b[0;34m(\u001b[0m\u001b[0;36m1\u001b[0m\u001b[0;34m)\u001b[0m\u001b[0;34m)\u001b[0m\u001b[0;34m*\u001b[0m\u001b[0;34m(\u001b[0m\u001b[0mj\u001b[0m\u001b[0;34m(\u001b[0m\u001b[0mn\u001b[0m\u001b[0;34m+\u001b[0m\u001b[0mInteger\u001b[0m\u001b[0;34m(\u001b[0m\u001b[0;36m1\u001b[0m\u001b[0;34m)\u001b[0m\u001b[0;34m,\u001b[0m\u001b[0mm\u001b[0m\u001b[0;34m)\u001b[0m\u001b[0;34m-\u001b[0m\u001b[0mInteger\u001b[0m\u001b[0;34m(\u001b[0m\u001b[0;36m2\u001b[0m\u001b[0;34m)\u001b[0m\u001b[0;34m**\u001b[0m\u001b[0mInteger\u001b[0m\u001b[0;34m(\u001b[0m\u001b[0;36m6\u001b[0m\u001b[0;34m)\u001b[0m\u001b[0;34m*\u001b[0m\u001b[0mm\u001b[0m\u001b[0;34m**\u001b[0m\u001b[0mInteger\u001b[0m\u001b[0;34m(\u001b[0m\u001b[0;36m3\u001b[0m\u001b[0;34m)\u001b[0m\u001b[0;34m)\u001b[0m\u001b[0;34m)\u001b[0m\u001b[0;34m\u001b[0m\u001b[0m\n\u001b[1;32m     83\u001b[0m         \u001b[0;32mreturn\u001b[0m \u001b[0mL\u001b[0m\u001b[0;34m(\u001b[0m\u001b[0;34m(\u001b[0m\u001b[0;34m-\u001b[0m\u001b[0mInteger\u001b[0m\u001b[0;34m(\u001b[0m\u001b[0;36m1\u001b[0m\u001b[0;34m)\u001b[0m\u001b[0;34m)\u001b[0m\u001b[0;34m**\u001b[0m\u001b[0mm\u001b[0m\u001b[0;34m*\u001b[0m\u001b[0;34m(\u001b[0m\u001b[0mnum\u001b[0m\u001b[0;34m/\u001b[0m\u001b[0mden\u001b[0m\u001b[0;34m)\u001b[0m\u001b[0;34m)\u001b[0m\u001b[0;34m.\u001b[0m\u001b[0mO\u001b[0m\u001b[0;34m(\u001b[0m\u001b[0mn\u001b[0m\u001b[0;34m+\u001b[0m\u001b[0mInteger\u001b[0m\u001b[0;34m(\u001b[0m\u001b[0;36m1\u001b[0m\u001b[0;34m)\u001b[0m\u001b[0;34m)\u001b[0m\u001b[0;34m\u001b[0m\u001b[0m\n\u001b[0;32m---> 84\u001b[0;31m     \u001b[0;32mreturn\u001b[0m \u001b[0mS\u001b[0m\u001b[0;34m(\u001b[0m\u001b[0mbase6\u001b[0m\u001b[0;34m(\u001b[0m\u001b[0mn\u001b[0m\u001b[0;34m,\u001b[0m\u001b[0mm\u001b[0m\u001b[0;34m)\u001b[0m\u001b[0;34m**\u001b[0m\u001b[0;34m(\u001b[0m\u001b[0mInteger\u001b[0m\u001b[0;34m(\u001b[0m\u001b[0;36m1\u001b[0m\u001b[0;34m)\u001b[0m\u001b[0;34m/\u001b[0m\u001b[0;34m(\u001b[0m\u001b[0mm\u001b[0m\u001b[0;34m-\u001b[0m\u001b[0mInteger\u001b[0m\u001b[0;34m(\u001b[0m\u001b[0;36m2\u001b[0m\u001b[0;34m)\u001b[0m\u001b[0;34m)\u001b[0m\u001b[0;34m)\u001b[0m\u001b[0;34m)\u001b[0m\u001b[0;34m.\u001b[0m\u001b[0mpolynomial\u001b[0m\u001b[0;34m(\u001b[0m\u001b[0;34m)\u001b[0m\u001b[0;34m\u001b[0m\u001b[0m\n\u001b[0m\u001b[1;32m     85\u001b[0m \u001b[0;32mdef\u001b[0m \u001b[0mpolynomialCoefficient\u001b[0m\u001b[0;34m(\u001b[0m\u001b[0mn\u001b[0m\u001b[0;34m,\u001b[0m\u001b[0mpoly\u001b[0m\u001b[0;34m)\u001b[0m\u001b[0;34m:\u001b[0m\u001b[0;34m\u001b[0m\u001b[0m\n\u001b[1;32m     86\u001b[0m     \u001b[0;32mreturn\u001b[0m \u001b[0mpoly\u001b[0m\u001b[0;34m.\u001b[0m\u001b[0mlist\u001b[0m\u001b[0;34m(\u001b[0m\u001b[0;34m)\u001b[0m\u001b[0;34m[\u001b[0m\u001b[0mn\u001b[0m\u001b[0;34m]\u001b[0m\u001b[0;34m\u001b[0m\u001b[0m\n",
      "\u001b[0;32m<ipython-input-1-fa7e7a52edc4>\u001b[0m in \u001b[0;36mbase6\u001b[0;34m(n, m)\u001b[0m\n\u001b[1;32m     79\u001b[0m     \u001b[0;32mdef\u001b[0m \u001b[0mbase6\u001b[0m\u001b[0;34m(\u001b[0m\u001b[0mn\u001b[0m\u001b[0;34m,\u001b[0m\u001b[0mm\u001b[0m\u001b[0;34m)\u001b[0m\u001b[0;34m:\u001b[0m\u001b[0;34m\u001b[0m\u001b[0m\n\u001b[1;32m     80\u001b[0m         \u001b[0mjay\u001b[0m\u001b[0;34m=\u001b[0m\u001b[0mj\u001b[0m\u001b[0;34m(\u001b[0m\u001b[0mn\u001b[0m\u001b[0;34m+\u001b[0m\u001b[0mInteger\u001b[0m\u001b[0;34m(\u001b[0m\u001b[0;36m1\u001b[0m\u001b[0;34m)\u001b[0m\u001b[0;34m,\u001b[0m\u001b[0mm\u001b[0m\u001b[0;34m)\u001b[0m\u001b[0;34m\u001b[0m\u001b[0m\n\u001b[0;32m---> 81\u001b[0;31m         \u001b[0mnum\u001b[0m\u001b[0;34m=\u001b[0m\u001b[0;34m(\u001b[0m\u001b[0mx\u001b[0m\u001b[0;34m*\u001b[0m\u001b[0mderivative\u001b[0m\u001b[0;34m(\u001b[0m\u001b[0mjay\u001b[0m\u001b[0;34m,\u001b[0m\u001b[0mx\u001b[0m\u001b[0;34m)\u001b[0m\u001b[0;34m)\u001b[0m\u001b[0;34m**\u001b[0m\u001b[0mm\u001b[0m \u001b[0;31m# chain rule; variable is tau not x.\u001b[0m\u001b[0;34m\u001b[0m\u001b[0m\n\u001b[0m\u001b[1;32m     82\u001b[0m         \u001b[0mden\u001b[0m \u001b[0;34m=\u001b[0m \u001b[0mexpand\u001b[0m\u001b[0;34m(\u001b[0m\u001b[0mjay\u001b[0m\u001b[0;34m**\u001b[0m\u001b[0;34m(\u001b[0m\u001b[0mm\u001b[0m\u001b[0;34m-\u001b[0m\u001b[0mInteger\u001b[0m\u001b[0;34m(\u001b[0m\u001b[0;36m1\u001b[0m\u001b[0;34m)\u001b[0m\u001b[0;34m)\u001b[0m\u001b[0;34m*\u001b[0m\u001b[0;34m(\u001b[0m\u001b[0mj\u001b[0m\u001b[0;34m(\u001b[0m\u001b[0mn\u001b[0m\u001b[0;34m+\u001b[0m\u001b[0mInteger\u001b[0m\u001b[0;34m(\u001b[0m\u001b[0;36m1\u001b[0m\u001b[0;34m)\u001b[0m\u001b[0;34m,\u001b[0m\u001b[0mm\u001b[0m\u001b[0;34m)\u001b[0m\u001b[0;34m-\u001b[0m\u001b[0mInteger\u001b[0m\u001b[0;34m(\u001b[0m\u001b[0;36m2\u001b[0m\u001b[0;34m)\u001b[0m\u001b[0;34m**\u001b[0m\u001b[0mInteger\u001b[0m\u001b[0;34m(\u001b[0m\u001b[0;36m6\u001b[0m\u001b[0;34m)\u001b[0m\u001b[0;34m*\u001b[0m\u001b[0mm\u001b[0m\u001b[0;34m**\u001b[0m\u001b[0mInteger\u001b[0m\u001b[0;34m(\u001b[0m\u001b[0;36m3\u001b[0m\u001b[0;34m)\u001b[0m\u001b[0;34m)\u001b[0m\u001b[0;34m)\u001b[0m\u001b[0;34m\u001b[0m\u001b[0m\n\u001b[1;32m     83\u001b[0m         \u001b[0;32mreturn\u001b[0m \u001b[0mL\u001b[0m\u001b[0;34m(\u001b[0m\u001b[0;34m(\u001b[0m\u001b[0;34m-\u001b[0m\u001b[0mInteger\u001b[0m\u001b[0;34m(\u001b[0m\u001b[0;36m1\u001b[0m\u001b[0;34m)\u001b[0m\u001b[0;34m)\u001b[0m\u001b[0;34m**\u001b[0m\u001b[0mm\u001b[0m\u001b[0;34m*\u001b[0m\u001b[0;34m(\u001b[0m\u001b[0mnum\u001b[0m\u001b[0;34m/\u001b[0m\u001b[0mden\u001b[0m\u001b[0;34m)\u001b[0m\u001b[0;34m)\u001b[0m\u001b[0;34m.\u001b[0m\u001b[0mO\u001b[0m\u001b[0;34m(\u001b[0m\u001b[0mn\u001b[0m\u001b[0;34m+\u001b[0m\u001b[0mInteger\u001b[0m\u001b[0;34m(\u001b[0m\u001b[0;36m1\u001b[0m\u001b[0;34m)\u001b[0m\u001b[0;34m)\u001b[0m\u001b[0;34m\u001b[0m\u001b[0m\n",
      "\u001b[0;32m/Applications/SageMath-9.1.app/Contents/Resources/sage/local/lib/python2.7/site-packages/sage/rings/laurent_series_ring_element.pyx\u001b[0m in \u001b[0;36msage.rings.laurent_series_ring_element.LaurentSeries.__pow__ (build/cythonized/sage/rings/laurent_series_ring_element.c:11715)\u001b[0;34m()\u001b[0m\n\u001b[1;32m    943\u001b[0m         \u001b[0;32mif\u001b[0m \u001b[0mright\u001b[0m\u001b[0;34m.\u001b[0m\u001b[0mdenominator\u001b[0m\u001b[0;34m(\u001b[0m\u001b[0;34m)\u001b[0m \u001b[0;34m==\u001b[0m \u001b[0;36m1\u001b[0m\u001b[0;34m:\u001b[0m\u001b[0;34m\u001b[0m\u001b[0m\n\u001b[1;32m    944\u001b[0m             \u001b[0mright\u001b[0m \u001b[0;34m=\u001b[0m \u001b[0mright\u001b[0m\u001b[0;34m.\u001b[0m\u001b[0mnumerator\u001b[0m\u001b[0;34m(\u001b[0m\u001b[0;34m)\u001b[0m\u001b[0;34m\u001b[0m\u001b[0m\n\u001b[0;32m--> 945\u001b[0;31m             \u001b[0;32mreturn\u001b[0m \u001b[0mtype\u001b[0m\u001b[0;34m(\u001b[0m\u001b[0mself\u001b[0m\u001b[0;34m)\u001b[0m\u001b[0;34m(\u001b[0m\u001b[0mself\u001b[0m\u001b[0;34m.\u001b[0m\u001b[0m_parent\u001b[0m\u001b[0;34m,\u001b[0m \u001b[0mself\u001b[0m\u001b[0;34m.\u001b[0m\u001b[0m__u\u001b[0m\u001b[0;34m**\u001b[0m\u001b[0mright\u001b[0m\u001b[0;34m,\u001b[0m \u001b[0mself\u001b[0m\u001b[0;34m.\u001b[0m\u001b[0m__n\u001b[0m\u001b[0;34m*\u001b[0m\u001b[0mright\u001b[0m\u001b[0;34m)\u001b[0m\u001b[0;34m\u001b[0m\u001b[0m\n\u001b[0m\u001b[1;32m    946\u001b[0m \u001b[0;34m\u001b[0m\u001b[0m\n\u001b[1;32m    947\u001b[0m         \u001b[0;32mif\u001b[0m \u001b[0mself\u001b[0m\u001b[0;34m.\u001b[0m\u001b[0mis_zero\u001b[0m\u001b[0;34m(\u001b[0m\u001b[0;34m)\u001b[0m\u001b[0;34m:\u001b[0m\u001b[0;34m\u001b[0m\u001b[0m\n",
      "\u001b[0;32m/Applications/SageMath-9.1.app/Contents/Resources/sage/local/lib/python2.7/site-packages/sage/rings/power_series_ring_element.pyx\u001b[0m in \u001b[0;36msage.rings.power_series_ring_element.PowerSeries.__pow__ (build/cythonized/sage/rings/power_series_ring_element.c:11975)\u001b[0;34m()\u001b[0m\n\u001b[1;32m   1111\u001b[0m         \u001b[0;32mif\u001b[0m \u001b[0mright\u001b[0m\u001b[0;34m.\u001b[0m\u001b[0mdenominator\u001b[0m\u001b[0;34m(\u001b[0m\u001b[0;34m)\u001b[0m \u001b[0;34m==\u001b[0m \u001b[0;36m1\u001b[0m\u001b[0;34m:\u001b[0m\u001b[0;34m\u001b[0m\u001b[0m\n\u001b[1;32m   1112\u001b[0m             \u001b[0mright\u001b[0m \u001b[0;34m=\u001b[0m \u001b[0mright\u001b[0m\u001b[0;34m.\u001b[0m\u001b[0mnumerator\u001b[0m\u001b[0;34m(\u001b[0m\u001b[0;34m)\u001b[0m\u001b[0;34m\u001b[0m\u001b[0m\n\u001b[0;32m-> 1113\u001b[0;31m             \u001b[0;32mreturn\u001b[0m \u001b[0msuper\u001b[0m\u001b[0;34m(\u001b[0m\u001b[0;34m)\u001b[0m\u001b[0;34m.\u001b[0m\u001b[0m__pow__\u001b[0m\u001b[0;34m(\u001b[0m\u001b[0mright\u001b[0m\u001b[0;34m,\u001b[0m \u001b[0mdummy\u001b[0m\u001b[0;34m)\u001b[0m\u001b[0;34m\u001b[0m\u001b[0m\n\u001b[0m\u001b[1;32m   1114\u001b[0m \u001b[0;34m\u001b[0m\u001b[0m\n\u001b[1;32m   1115\u001b[0m         \u001b[0;32mif\u001b[0m \u001b[0mself\u001b[0m\u001b[0;34m.\u001b[0m\u001b[0mis_zero\u001b[0m\u001b[0;34m(\u001b[0m\u001b[0;34m)\u001b[0m\u001b[0;34m:\u001b[0m\u001b[0;34m\u001b[0m\u001b[0m\n",
      "\u001b[0;32m/Applications/SageMath-9.1.app/Contents/Resources/sage/local/lib/python2.7/site-packages/sage/structure/element.pyx\u001b[0m in \u001b[0;36msage.structure.element.Element.__pow__ (build/cythonized/sage/structure/element.c:14094)\u001b[0;34m()\u001b[0m\n\u001b[1;32m   2036\u001b[0m             \u001b[0;32mreturn\u001b[0m \u001b[0;34m(\u001b[0m\u001b[0;34m<\u001b[0m\u001b[0mElement\u001b[0m\u001b[0;34m>\u001b[0m\u001b[0mleft\u001b[0m\u001b[0;34m)\u001b[0m\u001b[0;34m.\u001b[0m\u001b[0m_pow_\u001b[0m\u001b[0;34m(\u001b[0m\u001b[0mright\u001b[0m\u001b[0;34m)\u001b[0m\u001b[0;34m\u001b[0m\u001b[0m\n\u001b[1;32m   2037\u001b[0m         \u001b[0;32mif\u001b[0m \u001b[0mBOTH_ARE_ELEMENT\u001b[0m\u001b[0;34m(\u001b[0m\u001b[0mcl\u001b[0m\u001b[0;34m)\u001b[0m\u001b[0;34m:\u001b[0m\u001b[0;34m\u001b[0m\u001b[0m\n\u001b[0;32m-> 2038\u001b[0;31m             \u001b[0;32mreturn\u001b[0m \u001b[0mcoercion_model\u001b[0m\u001b[0;34m.\u001b[0m\u001b[0mbin_op\u001b[0m\u001b[0;34m(\u001b[0m\u001b[0mleft\u001b[0m\u001b[0;34m,\u001b[0m \u001b[0mright\u001b[0m\u001b[0;34m,\u001b[0m \u001b[0mpow\u001b[0m\u001b[0;34m)\u001b[0m\u001b[0;34m\u001b[0m\u001b[0m\n\u001b[0m\u001b[1;32m   2039\u001b[0m \u001b[0;34m\u001b[0m\u001b[0m\n\u001b[1;32m   2040\u001b[0m         \u001b[0mcdef\u001b[0m \u001b[0mlong\u001b[0m \u001b[0mvalue\u001b[0m\u001b[0;34m\u001b[0m\u001b[0m\n",
      "\u001b[0;32m/Applications/SageMath-9.1.app/Contents/Resources/sage/local/lib/python2.7/site-packages/sage/structure/coerce.pyx\u001b[0m in \u001b[0;36msage.structure.coerce.CoercionModel.bin_op (build/cythonized/sage/structure/coerce.c:10076)\u001b[0;34m()\u001b[0m\n\u001b[1;32m   1201\u001b[0m                 \u001b[0;32mreturn\u001b[0m \u001b[0;34m(\u001b[0m\u001b[0;34m<\u001b[0m\u001b[0mAction\u001b[0m\u001b[0;34m>\u001b[0m\u001b[0maction\u001b[0m\u001b[0;34m)\u001b[0m\u001b[0;34m.\u001b[0m\u001b[0m_act_\u001b[0m\u001b[0;34m(\u001b[0m\u001b[0mx\u001b[0m\u001b[0;34m,\u001b[0m \u001b[0my\u001b[0m\u001b[0;34m)\u001b[0m\u001b[0;34m\u001b[0m\u001b[0m\n\u001b[1;32m   1202\u001b[0m             \u001b[0;32melse\u001b[0m\u001b[0;34m:\u001b[0m\u001b[0;34m\u001b[0m\u001b[0m\n\u001b[0;32m-> 1203\u001b[0;31m                 \u001b[0;32mreturn\u001b[0m \u001b[0;34m(\u001b[0m\u001b[0;34m<\u001b[0m\u001b[0mAction\u001b[0m\u001b[0;34m>\u001b[0m\u001b[0maction\u001b[0m\u001b[0;34m)\u001b[0m\u001b[0;34m.\u001b[0m\u001b[0m_act_\u001b[0m\u001b[0;34m(\u001b[0m\u001b[0my\u001b[0m\u001b[0;34m,\u001b[0m \u001b[0mx\u001b[0m\u001b[0;34m)\u001b[0m\u001b[0;34m\u001b[0m\u001b[0m\n\u001b[0m\u001b[1;32m   1204\u001b[0m \u001b[0;34m\u001b[0m\u001b[0m\n\u001b[1;32m   1205\u001b[0m         \u001b[0;31m# Now coerce to a common parent and do the operation there\u001b[0m\u001b[0;34m\u001b[0m\u001b[0;34m\u001b[0m\u001b[0m\n",
      "\u001b[0;32m/Applications/SageMath-9.1.app/Contents/Resources/sage/local/lib/python2.7/site-packages/sage/structure/coerce_actions.pyx\u001b[0m in \u001b[0;36msage.structure.coerce_actions.IntegerPowAction._act_ (build/cythonized/sage/structure/coerce_actions.c:10241)\u001b[0;34m()\u001b[0m\n\u001b[1;32m    860\u001b[0m         \u001b[0minteger_check_long\u001b[0m\u001b[0;34m(\u001b[0m\u001b[0mn\u001b[0m\u001b[0;34m,\u001b[0m \u001b[0;34m&\u001b[0m\u001b[0mvalue\u001b[0m\u001b[0;34m,\u001b[0m \u001b[0;34m&\u001b[0m\u001b[0merr\u001b[0m\u001b[0;34m)\u001b[0m\u001b[0;34m\u001b[0m\u001b[0m\n\u001b[1;32m    861\u001b[0m         \u001b[0;32mif\u001b[0m \u001b[0;32mnot\u001b[0m \u001b[0merr\u001b[0m\u001b[0;34m:\u001b[0m\u001b[0;34m\u001b[0m\u001b[0m\n\u001b[0;32m--> 862\u001b[0;31m             \u001b[0;32mreturn\u001b[0m \u001b[0me\u001b[0m\u001b[0;34m.\u001b[0m\u001b[0m_pow_long\u001b[0m\u001b[0;34m(\u001b[0m\u001b[0mvalue\u001b[0m\u001b[0;34m)\u001b[0m\u001b[0;34m\u001b[0m\u001b[0m\n\u001b[0m\u001b[1;32m    863\u001b[0m         \u001b[0;32mreturn\u001b[0m \u001b[0me\u001b[0m\u001b[0;34m.\u001b[0m\u001b[0m_pow_int\u001b[0m\u001b[0;34m(\u001b[0m\u001b[0mn\u001b[0m\u001b[0;34m)\u001b[0m\u001b[0;34m\u001b[0m\u001b[0m\n\u001b[1;32m    864\u001b[0m \u001b[0;34m\u001b[0m\u001b[0m\n",
      "\u001b[0;32m/Applications/SageMath-9.1.app/Contents/Resources/sage/local/lib/python2.7/site-packages/sage/structure/element.pyx\u001b[0m in \u001b[0;36msage.structure.element.Element._pow_long (build/cythonized/sage/structure/element.c:14641)\u001b[0;34m()\u001b[0m\n\u001b[1;32m   2113\u001b[0m         \u001b[0mGeneric\u001b[0m \u001b[0mpath\u001b[0m \u001b[0;32mfor\u001b[0m \u001b[0mpowering\u001b[0m \u001b[0;32mwith\u001b[0m \u001b[0ma\u001b[0m \u001b[0mC\u001b[0m \u001b[0mlong\u001b[0m\u001b[0;34m.\u001b[0m\u001b[0;34m\u001b[0m\u001b[0m\n\u001b[1;32m   2114\u001b[0m         \"\"\"\n\u001b[0;32m-> 2115\u001b[0;31m         \u001b[0;32mreturn\u001b[0m \u001b[0mself\u001b[0m\u001b[0;34m.\u001b[0m\u001b[0m_pow_int\u001b[0m\u001b[0;34m(\u001b[0m\u001b[0mn\u001b[0m\u001b[0;34m)\u001b[0m\u001b[0;34m\u001b[0m\u001b[0m\n\u001b[0m\u001b[1;32m   2116\u001b[0m \u001b[0;34m\u001b[0m\u001b[0m\n\u001b[1;32m   2117\u001b[0m \u001b[0;34m\u001b[0m\u001b[0m\n",
      "\u001b[0;32m/Applications/SageMath-9.1.app/Contents/Resources/sage/local/lib/python2.7/site-packages/sage/structure/element.pyx\u001b[0m in \u001b[0;36msage.structure.element.RingElement._pow_int (build/cythonized/sage/structure/element.c:17760)\u001b[0;34m()\u001b[0m\n\u001b[1;32m   2623\u001b[0m             \u001b[0mOverflowError\u001b[0m\u001b[0;34m:\u001b[0m \u001b[0mexponent\u001b[0m \u001b[0moverflow\u001b[0m \u001b[0;34m(\u001b[0m\u001b[0;36m670592745\u001b[0m\u001b[0;34m)\u001b[0m\u001b[0;34m\u001b[0m\u001b[0m\n\u001b[1;32m   2624\u001b[0m         \"\"\"\n\u001b[0;32m-> 2625\u001b[0;31m         \u001b[0;32mreturn\u001b[0m \u001b[0marith_generic_power\u001b[0m\u001b[0;34m(\u001b[0m\u001b[0mself\u001b[0m\u001b[0;34m,\u001b[0m \u001b[0mn\u001b[0m\u001b[0;34m)\u001b[0m\u001b[0;34m\u001b[0m\u001b[0m\n\u001b[0m\u001b[1;32m   2626\u001b[0m \u001b[0;34m\u001b[0m\u001b[0m\n\u001b[1;32m   2627\u001b[0m     \u001b[0;32mdef\u001b[0m \u001b[0mpowers\u001b[0m\u001b[0;34m(\u001b[0m\u001b[0mself\u001b[0m\u001b[0;34m,\u001b[0m \u001b[0mn\u001b[0m\u001b[0;34m)\u001b[0m\u001b[0;34m:\u001b[0m\u001b[0;34m\u001b[0m\u001b[0m\n",
      "\u001b[0;32m/Applications/SageMath-9.1.app/Contents/Resources/sage/local/lib/python2.7/site-packages/sage/arith/power.pyx\u001b[0m in \u001b[0;36msage.arith.power.generic_power (build/cythonized/sage/arith/power.c:2377)\u001b[0;34m()\u001b[0m\n\u001b[1;32m     81\u001b[0m         \u001b[0;32mraise\u001b[0m \u001b[0mNotImplementedError\u001b[0m\u001b[0;34m(\u001b[0m\u001b[0;34m\"non-integral exponents not supported\"\u001b[0m\u001b[0;34m)\u001b[0m\u001b[0;34m\u001b[0m\u001b[0m\n\u001b[1;32m     82\u001b[0m     \u001b[0;32mif\u001b[0m \u001b[0;32mnot\u001b[0m \u001b[0merr\u001b[0m\u001b[0;34m:\u001b[0m\u001b[0;34m\u001b[0m\u001b[0m\n\u001b[0;32m---> 83\u001b[0;31m         \u001b[0;32mreturn\u001b[0m \u001b[0mgeneric_power_long\u001b[0m\u001b[0;34m(\u001b[0m\u001b[0ma\u001b[0m\u001b[0;34m,\u001b[0m \u001b[0mvalue\u001b[0m\u001b[0;34m)\u001b[0m\u001b[0;34m\u001b[0m\u001b[0m\n\u001b[0m\u001b[1;32m     84\u001b[0m \u001b[0;34m\u001b[0m\u001b[0m\n\u001b[1;32m     85\u001b[0m     \u001b[0;32mif\u001b[0m \u001b[0mn\u001b[0m \u001b[0;34m<\u001b[0m \u001b[0;36m0\u001b[0m\u001b[0;34m:\u001b[0m\u001b[0;34m\u001b[0m\u001b[0m\n",
      "\u001b[0;32m/Applications/SageMath-9.1.app/Contents/Resources/sage/local/lib/python2.7/site-packages/sage/arith/power.pyx\u001b[0m in \u001b[0;36msage.arith.power.generic_power_long (build/cythonized/sage/arith/power.c:2664)\u001b[0;34m()\u001b[0m\n\u001b[1;32m    100\u001b[0m         \u001b[0mu\u001b[0m \u001b[0;34m=\u001b[0m \u001b[0;34m-\u001b[0m\u001b[0mu\u001b[0m\u001b[0;34m\u001b[0m\u001b[0m\n\u001b[1;32m    101\u001b[0m         \u001b[0ma\u001b[0m \u001b[0;34m=\u001b[0m \u001b[0minvert\u001b[0m\u001b[0;34m(\u001b[0m\u001b[0ma\u001b[0m\u001b[0;34m)\u001b[0m\u001b[0;34m\u001b[0m\u001b[0m\n\u001b[0;32m--> 102\u001b[0;31m     \u001b[0;32mreturn\u001b[0m \u001b[0mgeneric_power_pos\u001b[0m\u001b[0;34m(\u001b[0m\u001b[0ma\u001b[0m\u001b[0;34m,\u001b[0m \u001b[0mu\u001b[0m\u001b[0;34m)\u001b[0m\u001b[0;34m\u001b[0m\u001b[0m\n\u001b[0m\u001b[1;32m    103\u001b[0m \u001b[0;34m\u001b[0m\u001b[0m\n\u001b[1;32m    104\u001b[0m \u001b[0;34m\u001b[0m\u001b[0m\n",
      "\u001b[0;32m/Applications/SageMath-9.1.app/Contents/Resources/sage/local/lib/python2.7/site-packages/sage/arith/power.pyx\u001b[0m in \u001b[0;36msage.arith.power.generic_power_pos (build/cythonized/sage/arith/power.c:2828)\u001b[0;34m()\u001b[0m\n\u001b[1;32m    121\u001b[0m         \u001b[0mapow\u001b[0m \u001b[0;34m*=\u001b[0m \u001b[0mapow\u001b[0m\u001b[0;34m\u001b[0m\u001b[0m\n\u001b[1;32m    122\u001b[0m         \u001b[0;32mif\u001b[0m \u001b[0mn\u001b[0m \u001b[0;34m&\u001b[0m \u001b[0;36m1\u001b[0m\u001b[0;34m:\u001b[0m\u001b[0;34m\u001b[0m\u001b[0m\n\u001b[0;32m--> 123\u001b[0;31m             \u001b[0mres\u001b[0m \u001b[0;34m=\u001b[0m \u001b[0mapow\u001b[0m \u001b[0;34m*\u001b[0m \u001b[0mres\u001b[0m\u001b[0;34m\u001b[0m\u001b[0m\n\u001b[0m\u001b[1;32m    124\u001b[0m         \u001b[0mn\u001b[0m \u001b[0;34m>>=\u001b[0m \u001b[0;36m1\u001b[0m\u001b[0;34m\u001b[0m\u001b[0m\n\u001b[1;32m    125\u001b[0m \u001b[0;34m\u001b[0m\u001b[0m\n",
      "\u001b[0;32m/Applications/SageMath-9.1.app/Contents/Resources/sage/local/lib/python2.7/site-packages/sage/structure/element.pyx\u001b[0m in \u001b[0;36msage.structure.element.Element.__mul__ (build/cythonized/sage/structure/element.c:11999)\u001b[0;34m()\u001b[0m\n\u001b[1;32m   1513\u001b[0m         \u001b[0mcdef\u001b[0m \u001b[0mint\u001b[0m \u001b[0mcl\u001b[0m \u001b[0;34m=\u001b[0m \u001b[0mclassify_elements\u001b[0m\u001b[0;34m(\u001b[0m\u001b[0mleft\u001b[0m\u001b[0;34m,\u001b[0m \u001b[0mright\u001b[0m\u001b[0;34m)\u001b[0m\u001b[0;34m\u001b[0m\u001b[0m\n\u001b[1;32m   1514\u001b[0m         \u001b[0;32mif\u001b[0m \u001b[0mHAVE_SAME_PARENT\u001b[0m\u001b[0;34m(\u001b[0m\u001b[0mcl\u001b[0m\u001b[0;34m)\u001b[0m\u001b[0;34m:\u001b[0m\u001b[0;34m\u001b[0m\u001b[0m\n\u001b[0;32m-> 1515\u001b[0;31m             \u001b[0;32mreturn\u001b[0m \u001b[0;34m(\u001b[0m\u001b[0;34m<\u001b[0m\u001b[0mElement\u001b[0m\u001b[0;34m>\u001b[0m\u001b[0mleft\u001b[0m\u001b[0;34m)\u001b[0m\u001b[0;34m.\u001b[0m\u001b[0m_mul_\u001b[0m\u001b[0;34m(\u001b[0m\u001b[0mright\u001b[0m\u001b[0;34m)\u001b[0m\u001b[0;34m\u001b[0m\u001b[0m\n\u001b[0m\u001b[1;32m   1516\u001b[0m         \u001b[0;32mif\u001b[0m \u001b[0mBOTH_ARE_ELEMENT\u001b[0m\u001b[0;34m(\u001b[0m\u001b[0mcl\u001b[0m\u001b[0;34m)\u001b[0m\u001b[0;34m:\u001b[0m\u001b[0;34m\u001b[0m\u001b[0m\n\u001b[1;32m   1517\u001b[0m             \u001b[0;32mreturn\u001b[0m \u001b[0mcoercion_model\u001b[0m\u001b[0;34m.\u001b[0m\u001b[0mbin_op\u001b[0m\u001b[0;34m(\u001b[0m\u001b[0mleft\u001b[0m\u001b[0;34m,\u001b[0m \u001b[0mright\u001b[0m\u001b[0;34m,\u001b[0m \u001b[0mmul\u001b[0m\u001b[0;34m)\u001b[0m\u001b[0;34m\u001b[0m\u001b[0m\n",
      "\u001b[0;32m/Applications/SageMath-9.1.app/Contents/Resources/sage/local/lib/python2.7/site-packages/sage/rings/power_series_poly.pyx\u001b[0m in \u001b[0;36msage.rings.power_series_poly.PowerSeries_poly._mul_ (build/cythonized/sage/rings/power_series_poly.c:7858)\u001b[0;34m()\u001b[0m\n\u001b[1;32m    540\u001b[0m         \u001b[0mprec\u001b[0m \u001b[0;34m=\u001b[0m \u001b[0mself\u001b[0m\u001b[0;34m.\u001b[0m\u001b[0m_mul_prec\u001b[0m\u001b[0;34m(\u001b[0m\u001b[0mright_r\u001b[0m\u001b[0;34m)\u001b[0m\u001b[0;34m\u001b[0m\u001b[0m\n\u001b[1;32m    541\u001b[0m         return PowerSeries_poly(self._parent,\n\u001b[0;32m--> 542\u001b[0;31m                                 \u001b[0mself\u001b[0m\u001b[0;34m.\u001b[0m\u001b[0m__f\u001b[0m \u001b[0;34m*\u001b[0m \u001b[0;34m(\u001b[0m\u001b[0;34m<\u001b[0m\u001b[0mPowerSeries_poly\u001b[0m\u001b[0;34m>\u001b[0m\u001b[0mright_r\u001b[0m\u001b[0;34m)\u001b[0m\u001b[0;34m.\u001b[0m\u001b[0m__f\u001b[0m\u001b[0;34m,\u001b[0m\u001b[0;34m\u001b[0m\u001b[0m\n\u001b[0m\u001b[1;32m    543\u001b[0m                                 \u001b[0mprec\u001b[0m \u001b[0;34m=\u001b[0m \u001b[0mprec\u001b[0m\u001b[0;34m,\u001b[0m\u001b[0;34m\u001b[0m\u001b[0m\n\u001b[1;32m    544\u001b[0m                                 check = True)  # check, since truncation may be needed\n",
      "\u001b[0;32m/Applications/SageMath-9.1.app/Contents/Resources/sage/local/lib/python2.7/site-packages/sage/structure/element.pyx\u001b[0m in \u001b[0;36msage.structure.element.Element.__mul__ (build/cythonized/sage/structure/element.c:11999)\u001b[0;34m()\u001b[0m\n\u001b[1;32m   1513\u001b[0m         \u001b[0mcdef\u001b[0m \u001b[0mint\u001b[0m \u001b[0mcl\u001b[0m \u001b[0;34m=\u001b[0m \u001b[0mclassify_elements\u001b[0m\u001b[0;34m(\u001b[0m\u001b[0mleft\u001b[0m\u001b[0;34m,\u001b[0m \u001b[0mright\u001b[0m\u001b[0;34m)\u001b[0m\u001b[0;34m\u001b[0m\u001b[0m\n\u001b[1;32m   1514\u001b[0m         \u001b[0;32mif\u001b[0m \u001b[0mHAVE_SAME_PARENT\u001b[0m\u001b[0;34m(\u001b[0m\u001b[0mcl\u001b[0m\u001b[0;34m)\u001b[0m\u001b[0;34m:\u001b[0m\u001b[0;34m\u001b[0m\u001b[0m\n\u001b[0;32m-> 1515\u001b[0;31m             \u001b[0;32mreturn\u001b[0m \u001b[0;34m(\u001b[0m\u001b[0;34m<\u001b[0m\u001b[0mElement\u001b[0m\u001b[0;34m>\u001b[0m\u001b[0mleft\u001b[0m\u001b[0;34m)\u001b[0m\u001b[0;34m.\u001b[0m\u001b[0m_mul_\u001b[0m\u001b[0;34m(\u001b[0m\u001b[0mright\u001b[0m\u001b[0;34m)\u001b[0m\u001b[0;34m\u001b[0m\u001b[0m\n\u001b[0m\u001b[1;32m   1516\u001b[0m         \u001b[0;32mif\u001b[0m \u001b[0mBOTH_ARE_ELEMENT\u001b[0m\u001b[0;34m(\u001b[0m\u001b[0mcl\u001b[0m\u001b[0;34m)\u001b[0m\u001b[0;34m:\u001b[0m\u001b[0;34m\u001b[0m\u001b[0m\n\u001b[1;32m   1517\u001b[0m             \u001b[0;32mreturn\u001b[0m \u001b[0mcoercion_model\u001b[0m\u001b[0;34m.\u001b[0m\u001b[0mbin_op\u001b[0m\u001b[0;34m(\u001b[0m\u001b[0mleft\u001b[0m\u001b[0;34m,\u001b[0m \u001b[0mright\u001b[0m\u001b[0;34m,\u001b[0m \u001b[0mmul\u001b[0m\u001b[0;34m)\u001b[0m\u001b[0;34m\u001b[0m\u001b[0m\n",
      "\u001b[0;32m/Applications/SageMath-9.1.app/Contents/Resources/sage/local/lib/python2.7/site-packages/sage/rings/polynomial/polynomial_rational_flint.pyx\u001b[0m in \u001b[0;36msage.rings.polynomial.polynomial_rational_flint.Polynomial_rational_flint._mul_ (build/cythonized/sage/rings/polynomial/polynomial_rational_flint.cpp:10739)\u001b[0;34m()\u001b[0m\n\u001b[1;32m   1035\u001b[0m         \u001b[0mcdef\u001b[0m \u001b[0mbint\u001b[0m \u001b[0mdo_sig\u001b[0m \u001b[0;34m=\u001b[0m \u001b[0m_do_sig\u001b[0m\u001b[0;34m(\u001b[0m\u001b[0mself\u001b[0m\u001b[0;34m.\u001b[0m\u001b[0m__poly\u001b[0m\u001b[0;34m)\u001b[0m \u001b[0;32mor\u001b[0m \u001b[0m_do_sig\u001b[0m\u001b[0;34m(\u001b[0m\u001b[0mop2\u001b[0m\u001b[0;34m.\u001b[0m\u001b[0m__poly\u001b[0m\u001b[0;34m)\u001b[0m\u001b[0;34m\u001b[0m\u001b[0m\n\u001b[1;32m   1036\u001b[0m \u001b[0;34m\u001b[0m\u001b[0m\n\u001b[0;32m-> 1037\u001b[0;31m         \u001b[0;32mif\u001b[0m \u001b[0mdo_sig\u001b[0m\u001b[0;34m:\u001b[0m \u001b[0msig_str\u001b[0m\u001b[0;34m(\u001b[0m\u001b[0;34m\"FLINT exception\"\u001b[0m\u001b[0;34m)\u001b[0m\u001b[0;34m\u001b[0m\u001b[0m\n\u001b[0m\u001b[1;32m   1038\u001b[0m         \u001b[0mfmpq_poly_mul\u001b[0m\u001b[0;34m(\u001b[0m\u001b[0mres\u001b[0m\u001b[0;34m.\u001b[0m\u001b[0m__poly\u001b[0m\u001b[0;34m,\u001b[0m \u001b[0mself\u001b[0m\u001b[0;34m.\u001b[0m\u001b[0m__poly\u001b[0m\u001b[0;34m,\u001b[0m \u001b[0mop2\u001b[0m\u001b[0;34m.\u001b[0m\u001b[0m__poly\u001b[0m\u001b[0;34m)\u001b[0m\u001b[0;34m\u001b[0m\u001b[0m\n\u001b[1;32m   1039\u001b[0m         \u001b[0;32mif\u001b[0m \u001b[0mdo_sig\u001b[0m\u001b[0;34m:\u001b[0m \u001b[0msig_off\u001b[0m\u001b[0;34m(\u001b[0m\u001b[0;34m)\u001b[0m\u001b[0;34m\u001b[0m\u001b[0m\n",
      "\u001b[0;31mKeyboardInterrupt\u001b[0m: "
     ]
    }
   ],
   "source": [
    "data=[]\n",
    "for m in [3..400]:\n",
    "    if 10 in divisors(m):\n",
    "        print m\n",
    "    data=data+[[m,H6(100,m)]]\n",
    "import pickle\n",
    "wfile = open('/Users/barrybrent/8mar21no13.txt','a')\n",
    "s = pickle.dumps(str(data))\n",
    "wfile.write(s)\n",
    "wfile.close()"
   ]
  },
  {
   "cell_type": "code",
   "execution_count": 3,
   "metadata": {},
   "outputs": [
    {
     "data": {
      "text/plain": [
       "118"
      ]
     },
     "execution_count": 3,
     "metadata": {},
     "output_type": "execute_result"
    }
   ],
   "source": [
    "len(data)"
   ]
  },
  {
   "cell_type": "code",
   "execution_count": 5,
   "metadata": {},
   "outputs": [
    {
     "name": "stdout",
     "output_type": "stream",
     "text": [
      "-4509761294051827662634974954300352219867608087127729347058355562482339053873913601618326183599905898068057789167461648441704267267156243924537964971450154371474087612180110462438348241643731525734948816805777690941425817072740755975246429443359375000/168408038462625364828864964197173846165392820165767333654878925721231*x^100 - 939574190575591953280248432803410626887563854330249770485734978761147947904420418933296150967498426718043420307926706883539813969577307624884344691626055165128478498936337646659090799778220314348005013743306797492151350076019298285245895385742187500000/4563741252156673261609666700152813187650184769924487672354688586250630017*x^99 - 4712485003779872167121960552518128382863775102298301920335870651196848467420869620201848043110053781291218531910897147113007269710249240297752117342184696161958402359416211015239400849751449375044519031880146940238773822784423828125000/565127055492208306479855653510156954200726939415477455419*x^98 - 147732573863915803905489770222813288992042890121347938960540404774914201254379114632075097022393696570903364618109680674026525977480098773088443634881747703584318532934125814719229206710449597894624985436501384537468949565663933753967285156250000/1386928402600386946277805061177421778980583070552360842055566113127573*x^97 - 2185561833130524281657644562948981071586240402526705192383173954164272580736540972020284923050181812340898535103097943877491605269318848972494123834477857263657833128655006194548642479385256476718244811174168160258342977613210678100585937500000/1386928402600386946277805061177421778980583070552360842055566113127573*x^96 - 795649097251579588254868648906481113452974286420680664829469049970667001666898748399620377250299719665782810040619655471825287232806079275377605952401069932339339945502606799953078614935009976837710742073568326304666697978973388671875000000/17122572871609715386145741496017552826920778648794578296982297692933*x^95 - 73619397183105858529933374428379505953441483023311546820988185432255825972023247438950261664940222061650559537854024220167327719409808134161279155153152177467103208334255643250851732318593222722541159693369036540389060974121093750000000/209284503184002858952437763871649581859149399509938258949081954599*x^94 - 106333530342705878467202764685481430213113933649660691041969082223982580678558969741731764142158438915994944654379256123137528035345199115949078514148659396909593442488366741737039556829766171535763692292648032307624816894531250000000000/9836371649648134370764574901967530347380021776967098170606851866153*x^93 - 83619624400060148814259299164308438151001379604038006367915723089847429470432048190470515719641207848673301829723645747923615414063986299908804318426131434531633763143564457524635039604074081681617376394569873809814453125000000/433948874656297743801013587123284441256568126890357984615993*x^92 - 88773191869278583203182636284661508584982880264342177632198247957090498188756304899741304488230239607457984918318107304475820872549036156092134391361524824655568831732182900585783582967147231101989746093750000000/43546490956783321894040440823410938408223120557*x^91 - 8705217014656886575713166186005037215049205951735509982507865449677937340277714873095994847976572056961424183755670166295753923740029519938592818582930789782213674341277056484758187665054262631656456505879759788513183593750000/120503897603098660624114262461777724862852019270181412652760139*x^90 - 4145212049267825062482154021077550150045570629724769210713770616938133279838472001662336716709566348038809378243461010813800779791655408945085957443356235772295895614481562266945878107560982735675992444157600402832031250000/6446710571359187605405289761329672523527062759310116726279349*x^89 - 2432671370245883467784177079800449614228881022224957079180703068412977780468705959872852349348618828637978379145609391278250183199163143303764678061495398150608992246613939108710528647666855076589342206716537475585937500000/174061185426698065345942823555901158135230694501373151609542423*x^88 - 1309074072599992211451680751972346453441299499696649290931836692918198880327595437263454601996285459499105428380773353231673330881739294441991774158859933411303140750510621107915425249605471090637147426605224609375000000/3703429477163788624381762203317045917770865840454747906586009*x^87 - 3857484368810726118948293946363046806100897283520751260465984917560059687606014425342322774130193106617526480692680430425112718123829518328799412873718598273756887848839828768710943435464054346084594726562500000/1334325702965636849948636350081698783100568787155895177*x^86 - 6979465844193361711883985914565505599747311401802650749508346572534126330103513955213875744965377202325512439958997758400621791712834814894315764803480088358422159204042828250130696687847375869750976562500000/73101159804535240976348023613508334459768796608739907*x^85 - 7902298737135645741440635858629630603204855599317571039784024095322202528180726384476068973558763741986382230848552233015173204788320590175217241355006735789729403884028226372748613357543945312500000000/5734384702220127149618873271648529304394320803911*x^84 - 1606827622251829371252100657093191940452260717712751393232436450793410294569623892546027652412477291107034241485005601245013470925478143473524263008789391439666261695813849542608451098203659057617187500000/99209493541485759034410061838277210718237463517639003*x^83 - 25333816042226869708966448293370442066185752978690719776120603329748764062247446256781015404395525729513497637051741447741456928266851119288054739234126484780852900231064579788702204450964927673339843750000/45537157535541963396794218383769239719670995754596302377*x^82 - 211212200914923820863976405634966089227889318593038711905684252760068921795648580597277900394087228779429734887163769555117545228158359055554856566594417514786850533785097631193533875048160552978515625000/45537157535541963396794218383769239719670995754596302377*x^81 - 2865639187180927807170356468565478416135014970468807483416119394058855643348046557164405015985488512802331102487943853094750348598613634493987266316045414877891677260963915614411234855651855468750000/20821745558089603747962605570996451632222677528393371*x^80 - 1417967708477871121337677527815722182427421505931011431617159945521493689082141926574335235304467778100378512191129651542424153913079057150269965709120000666913153836016913643479347229003906250000000/562187130068419301194990350416904194070012293266621017*x^79 - 29161498435773638126657634104996823816341855800218854111836049575225770095775812925870522846836545980533651800343892134494235118793650108931685145393411782788751576185524463653564453125000000/1514133393488213624267062267311541542851635482669*x^78 - 99780826893519572948090647116868370424314775108578566460034529273827126434039357012490509104112012674754021954702313496883538608830468250080060872543909839868545532226562500000000/129004499918857308496511712146783719911*x^77 - 19162960781429305935038580395922644920119653917236944644034474610068866885039523608622133719192193404441668738514708737052562362748460884259667423467635819448670228879684209823608398437500000/2059293516734136634413884067461187524065979096214729*x^76 - 4933532359927842478499837773026705675125842272797574803908475171096323850079910397562699168178644856183378634868424973142073912416528301691042317406347096414829138666391372680664062500000/30735724130360248274834090559122201851731031286787*x^75 - 78205732167830181754836468138401380046580678526942662198153596126179194265296365235507782339915450393386376331152772534718507524428069029055592886116045007845535874366760253906250000/18570764609060742133249322001832350585414054561*x^74 - 606547488161951396725500494073986089899468126416469398366756091155450539405567015087044266158006603744702509065531155513939466724388619136058132461356265849277377128601074218750000/19549203208062888715612299978746594557248304011*x^73 - 20795808444226906238718054815499248892493463471197246858819761314893828949254903249407753501499986558554693437586433433750620150937228753269574009006607796515524387359619140625000/19549203208062888715612299978746594557248304011*x^72 - 17674293376644643782877033576534599929593374546811338398981484322602368260263956645608976087810187755186072933523981659909374135055485300004789817356307251453399658203125000000/1045842146933405569147983126435003001005053301*x^71 - 2582608820112721286259860184973000875069343816628833703859975150999107701584641236745666435705038943045478843779370669690042599505572447264567017555236816406250000000/14280764707789091166403925187666913089*x^70 - 2171538763257477168682228526297524158548724748294406891311510591599205841412148223732474877333776439491115142061655317729999508405721527769914377069473266601562500000000/331549483582077403362673559789889291022983*x^69 - 1454812728479729266077186088377517451483534218193390908837616506950460365087496943201138756466900543931548013701023651421114875898237146712320446968078613281250000/25925272111637029909215456145183481607*x^68 - 64194860621026950603283201477341130853955492287712513017597257420095201979493386577822769884898290208357780659602684716974920492456476273873783826828002929687500000/51328556281802442604288648852458716696271*x^67 - 89187477641012154488283372003244185754575246762623994277048097308512193922192427610586421630752298901587392768864950297213230150966198290205192565917968750000000/3019326840106026035546391108968159805663*x^66 - 5918847139855648887247710196236612046141415489419693772144345452154341348521689033511036919047730493459917968667251313399859607201069593429565429687500000/22187104093773060391118100203315631*x^65 - 878985032435981538921571861315973889696854679374163142261844959971400673564650235334275814133552711536645923367682878465815488721690295398235321044921875000/101239755979886474564671891227729224253*x^64 - 3441561390011062196349649500073303381901019720468354716819023772842022872884461930135995603321788085360468594635958746119968706798553466796875000000/32614601905066978754606362349727*x^63 - 25879348142029580145436621466083164727893365891220758333230501394407547496148942370894733444574658785433098135699573334974256227188110351562500000000/17993749610195427714760600275631023*x^62 - 964955586704480933342433104183474441011919324681095401070506985938968072071860388852082950484476404648454127589905548041072621271946907043457031250000/20890743297436891576837056920007617703*x^61 - 574177137824401537667590575108236726655462937100290759216815051072193252921830863824009845076800588621482543046157110868838727474212646484375000000/1606980253648991659756696686154432131*x^60 - 220376619737218666645862513591191761451552564314447534377917205477260514220168541738084023905072058844100717846339880619607858657836914062500000/19839262390728292095761687483388051*x^59 - 1402966326160152932688251797336515865526184411639732475334212645244418068578746651759221592987899699851598091533938797996521775245666503906250000/6963581099145630525612352306669205901*x^58 - 11729852432001113354734866718486823515267306550112573284404064764109155296069538889357976657653374172569834941253828151013600158691406250000000/6963581099145630525612352306669205901*x^57 - 952052241755557022304584641870637900130345078627698362554523808994268590987098653321388607361481861557215507622004852294921875000000/14912940971681288868132767421*x^56 - 220843074172682162021773893297758720404009597583125692329293532904016609682160321304786420872951434642598944597267572879791259765625000000/331599099959315739314873919365200281*x^55 - 194587884549435282671660055823321677782638160837297783087048187928625643702408301098402196468697326762467311357572333526611328125000000/14417352172144162578907561711530447*x^54 - 2641828358291561190306364962691909418126596268625186123435376390969131963452793401801916830254863603795445068325004577636718750000/8582423582558576993940365954013*x^53 - 230499514233220732064521613575236723846895509920610068194425638116370024563636066927144055113634027969682306114196777343750000/105473571565353472387979008083*x^52 - 22580470829081435620123537457108664020247934103034019969253850448187167301664583611816242107582992607225531005859375000000/279087406950864062903262183*x^51 - 16118903480224956701960314041912482139663730160447235802701443584211810183753683597339297041182867236793041229248046875000/12944831949560447954661185451*x^50 - 48423966556299873414975110833348026133039875157941522040696071491523049988467818944929187513799686431884765625000/3566374447047461418681*x^49 - 3285121182655242261024176510831805540436335749738359044173476152662858860839291350558497513662389154220581054687500000/7132866584451675403588816473*x^48 - 41048658801675997968427837722973904692438167423243726237391876696942530157080702369728215140393066406250000000/11086501484266254165231*x^47 - 678602206167547753588739026532500835950383848653885531827841610566042048862059869576797503292236328125000000/7356071873303317981089*x^46 - 4176398204184724036311324508350270668256998115588475029519489316667194797844212238268050637245178222656250000/2199465490117692076345611*x^45 - 161506829124505631177562420931075009163044263183389414755770616428841834043201144536844790649414062500000/9051298313241531178377*x^44 - 3403705107591130097920164248585370419302703856124950920604256723351075420252817501807172241210937500000/5683373359477240507353*x^43 - 311858541740048345785958039928815010830505195014441010906384495069494641881233924804687500000000/48307876475594697*x^42 - 952728332272553696833529987593660594620626406605619549908150123644156269586404823962402343750000/10023586171917531759*x^41 - 780431339078310061537752496289294661277693061166707504420540045882369424169000129699707031250000/270636826641773357493*x^40 - 34157084608031593202239166377282734472795609811906375027525302837396562884215576171875000000/1601401341075581997*x^39 - 13383808954710431610770698763875866938321049676797114914414931148246224156323242187500000/19770386926859037*x^38 - 2040755141576972245926254147031061617486204314504814036503730991685195738479003906250000/187551508414257351*x^37 - 19176406891551711227342047531081098516351220827914339789167448916322121005126953125000/187551508414257351*x^36 - 164574423246447037809862447951196598174035871201371474086875148925781250000000/45922348251*x^35 - 26649920570731724146558409336812623433517683503193670693112492770996093750000/792389691261*x^34 - 10083402747069348673351792281166069544986748852293820400418516527343750000000/13470624751437*x^33 - 2035692584060264631546881484829131717510617615894613028377296240234375000/127173654153*x^32 - 272158341057634123784206195222626926834783431847876631301475312500000000/2537943793749*x^31 - 224443742822255287049560609791945659042607038589440238461240234375000000/58372707256227*x^30 - 39234279206887482292538356897953777743056776178534660270410156250000/720650706867*x^29 - 5455064504975408479863329956032025696565817452587975859375000000/8103943809*x^28 - 54861523565357014792936080627369019953853710197831681421875000000/2779652726487*x^27 - 42862468799540761001565784853941587235705218277283593750000/293305131*x^26 - 32340837202523520353033286918295841422797061305224609375000/7919238537*x^25 - 566113836979458517887917430666110787353476519179687500000/7919238537*x^24 - 2527957491542628311213445268425762068270453125000000/4250799*x^23 - 2432682893450021472919036964231473377420457812500000/114771573*x^22 - 66271457906298498916327300966148914377500000000/334611*x^21 - 631698671033614596050505367730406074218750000/202419*x^20 - 447086636476680335714791453964681051562500000/5465313*x^19 - 3571615012207669027122265687500793671875000/5465313*x^18 - 23580553681048679569917510418093750000/1323*x^17 - 8546025715979793107329897759034375000/35721*x^16 - 78718148440953971418919461875000000/35721*x^15 - 649545280773556610240375000000/9*x^14 - 914141524928609032821643750000/1701*x^13 - 20593777488239481724217500000/1701*x^12 - 4519028573198488719500000/21*x^11 - 764196116461702063750000/567*x^10 - 22528177776031841875000/567*x^9 - 2925509932307625000/7*x^8 - 42731073946600000/9*x^7 - 884466669580000/9*x^6 - 461573190000*x^5 - 29091725000/3*x^4 - 276380000/3*x^3 - 351000*x^2 - 2600*x + 1\n",
      "100\n"
     ]
    }
   ],
   "source": [
    "import pickle\n",
    "rfile = open('/Users/barrybrent/16mar21no13.txt','r')\n",
    "rs=pickle.load(rfile)\n",
    "rfile.close()\n",
    "s=stripQuotationMarks(rs)\n",
    "for k in [2..2]:\n",
    "    m = s[k][0]\n",
    "    poly=D(s[k][1])\n",
    "    print(poly)\n",
    "    print(poly.degree())"
   ]
  },
  {
   "cell_type": "code",
   "execution_count": 4,
   "metadata": {},
   "outputs": [
    {
     "data": {
      "text/plain": [
       "120"
      ]
     },
     "execution_count": 4,
     "metadata": {},
     "output_type": "execute_result"
    }
   ],
   "source": [
    "import pickle\n",
    "rfile = open('/Users/barrybrent/8mar21no13.txt','r')\n",
    "data=[]\n",
    "rs=pickle.load(rfile)\n",
    "rfile.close()\n",
    "s=stripQuotationMarks(rs)\n",
    "lnth=len(s)\n",
    "s[lnth-1][0]"
   ]
  },
  {
   "cell_type": "code",
   "execution_count": 2,
   "metadata": {},
   "outputs": [
    {
     "name": "stdout",
     "output_type": "stream",
     "text": [
      "121\n",
      "122\n",
      "123\n",
      "124\n",
      "125\n",
      "126\n",
      "127\n",
      "128\n",
      "129\n",
      "130\n",
      "131\n",
      "132\n",
      "133\n",
      "134\n",
      "135\n",
      "136\n",
      "137\n",
      "138\n",
      "139\n",
      "140\n",
      "141\n",
      "142\n",
      "143\n",
      "144\n",
      "145\n",
      "146\n",
      "147\n",
      "148\n",
      "149\n",
      "150\n",
      "151\n",
      "152\n",
      "153\n",
      "154\n",
      "155\n",
      "156\n",
      "157\n",
      "158\n",
      "159\n",
      "160\n",
      "161\n",
      "162\n",
      "163\n",
      "164\n",
      "165\n",
      "166\n",
      "167\n",
      "168\n",
      "169\n",
      "170\n",
      "171\n",
      "172\n",
      "173\n",
      "174\n",
      "175\n",
      "176\n",
      "177\n",
      "178\n",
      "179\n",
      "180\n",
      "181\n",
      "182\n",
      "183\n",
      "184\n",
      "185\n",
      "186\n",
      "187\n",
      "188\n",
      "189\n",
      "190\n",
      "191\n",
      "192\n",
      "193\n",
      "194\n",
      "195\n",
      "196\n",
      "197\n",
      "198\n",
      "199\n",
      "200\n",
      "201\n",
      "202\n",
      "203\n",
      "204\n",
      "205\n",
      "206\n",
      "207\n",
      "208\n",
      "209\n",
      "210\n",
      "211\n",
      "212\n",
      "213\n",
      "214\n",
      "215\n",
      "216\n",
      "217\n",
      "218\n",
      "219\n",
      "220\n",
      "221\n",
      "222\n",
      "223\n",
      "224\n",
      "225\n",
      "226\n",
      "227\n",
      "228\n",
      "229\n",
      "230\n",
      "231\n",
      "232\n",
      "233\n",
      "234\n",
      "235\n",
      "236\n",
      "237\n",
      "238\n",
      "239\n",
      "240\n",
      "241\n",
      "242\n",
      "243\n",
      "244\n",
      "245\n",
      "246\n",
      "247\n",
      "248\n",
      "249\n",
      "250\n",
      "251\n",
      "252\n",
      "253\n",
      "254\n",
      "255\n",
      "256\n",
      "257\n",
      "258\n",
      "259\n",
      "260\n",
      "261\n",
      "262\n",
      "263\n",
      "264\n",
      "265\n",
      "266\n",
      "267\n",
      "268\n",
      "269\n",
      "270\n",
      "271\n",
      "272\n",
      "273\n",
      "274\n",
      "275\n",
      "276\n",
      "277\n",
      "278\n",
      "279\n",
      "280\n",
      "281\n",
      "282\n",
      "283\n",
      "284\n",
      "285\n",
      "286\n",
      "287\n",
      "288\n",
      "289\n",
      "290\n",
      "291\n",
      "292\n",
      "293\n",
      "294\n",
      "295\n",
      "296\n",
      "297\n",
      "298\n",
      "299\n",
      "300\n",
      "301\n",
      "302\n",
      "303\n",
      "304\n",
      "305\n",
      "306\n",
      "307\n",
      "308\n",
      "309\n",
      "310\n",
      "311\n",
      "312\n",
      "313\n",
      "314\n",
      "315\n",
      "316\n",
      "317\n",
      "318\n",
      "319\n",
      "320\n",
      "321\n",
      "322\n",
      "323\n",
      "324\n",
      "325\n",
      "326\n",
      "327\n",
      "328\n",
      "329\n",
      "330\n",
      "331\n",
      "332\n",
      "333\n",
      "334\n",
      "335\n",
      "336\n",
      "337\n",
      "338\n",
      "339\n",
      "340\n",
      "341\n",
      "342\n",
      "343\n",
      "344\n",
      "345\n",
      "346\n",
      "347\n",
      "348\n",
      "349\n",
      "350\n",
      "351\n",
      "352\n",
      "353\n",
      "354\n",
      "355\n",
      "356\n",
      "357\n",
      "358\n",
      "359\n",
      "360\n",
      "361\n",
      "362\n",
      "363\n",
      "364\n",
      "365\n",
      "366\n",
      "367\n",
      "368\n",
      "369\n",
      "370\n",
      "371\n",
      "372\n",
      "373\n",
      "374\n",
      "375\n",
      "376\n",
      "377\n",
      "378\n",
      "379\n",
      "380\n",
      "381\n",
      "382\n",
      "383\n",
      "384\n",
      "385\n",
      "386\n",
      "387\n",
      "388\n",
      "389\n",
      "390\n",
      "391\n",
      "392\n",
      "393\n",
      "394\n",
      "395\n",
      "396\n",
      "397\n",
      "398\n",
      "399\n",
      "400\n"
     ]
    }
   ],
   "source": [
    "import pickle\n",
    "wfile = open('/Users/barrybrent/9mar21no3.txt','w')\n",
    "data=[]\n",
    "for m in [121..400]:\n",
    "    print(m)\n",
    "    data=data+[[m,H6(100,m)]]\n",
    "s = pickle.dumps(str(data))\n",
    "wfile.write(s)\n",
    "wfile.close()"
   ]
  },
  {
   "cell_type": "code",
   "execution_count": 13,
   "metadata": {},
   "outputs": [
    {
     "name": "stdout",
     "output_type": "stream",
     "text": [
      "[118, 280, 398]\n"
     ]
    }
   ],
   "source": [
    "sfile = open('/Users/barrybrent/8mar21no13.txt','r')\n",
    "rs=pickle.load(sfile)\n",
    "sfile.close()\n",
    "s=stripQuotationMarks(rs)\n",
    "\n",
    "import pickle\n",
    "tfile = open('/Users/barrybrent/9mar21no3.txt','r')\n",
    "rt=pickle.load(tfile)\n",
    "tfile.close()\n",
    "t=stripQuotationMarks(rt)\n",
    "\n",
    "v=s+t\n",
    "print([len(s),len(t),len(v)])"
   ]
  },
  {
   "cell_type": "code",
   "execution_count": 15,
   "metadata": {},
   "outputs": [],
   "source": [
    "sfile = open('/Users/barrybrent/8mar21no13.txt','r')\n",
    "rs=pickle.load(sfile)\n",
    "sfile.close()\n",
    "s=stripQuotationMarks(rs)\n",
    "\n",
    "import pickle\n",
    "tfile = open('/Users/barrybrent/9mar21no3.txt','r')\n",
    "rt=pickle.load(tfile)\n",
    "tfile.close()\n",
    "t=stripQuotationMarks(rt)\n",
    "\n",
    "v=s+t\n",
    "\n",
    "import pickle\n",
    "wfile = open('/Users/barrybrent/16mar21no13.txt','w')\n",
    "pv = pickle.dumps(str(v))\n",
    "wfile.write(pv)\n",
    "wfile.close()"
   ]
  },
  {
   "cell_type": "code",
   "execution_count": 2,
   "metadata": {},
   "outputs": [
    {
     "name": "stdout",
     "output_type": "stream",
     "text": [
      "[[0, 100], [1, 100], [2, 100], [3, 100], [4, 100], [5, 100], [6, 100], [7, 100], [8, 100], [9, 100], [10, 100], [11, 100], [12, 100], [13, 100], [14, 100], [15, 100], [16, 100], [17, 100], [18, 100], [19, 100], [20, 100], [21, 100], [22, 100], [23, 100], [24, 100], [25, 100], [26, 100], [27, 100], [28, 100], [29, 100], [30, 100], [31, 100], [32, 100], [33, 100], [34, 100], [35, 100], [36, 100], [37, 100], [38, 100], [39, 100], [40, 100], [41, 100], [42, 100], [43, 100], [44, 100], [45, 100], [46, 100], [47, 100], [48, 100], [49, 100], [50, 100], [51, 100], [52, 100], [53, 100], [54, 100], [55, 100], [56, 100], [57, 100], [58, 100], [59, 100], [60, 100], [61, 100], [62, 100], [63, 100], [64, 100], [65, 100], [66, 100], [67, 100], [68, 100], [69, 100], [70, 100], [71, 100], [72, 100], [73, 100], [74, 100], [75, 100], [76, 100], [77, 100], [78, 100], [79, 100], [80, 100], [81, 100], [82, 100], [83, 100], [84, 100], [85, 100], [86, 100], [87, 100], [88, 100], [89, 100], [90, 100], [91, 100], [92, 100], [93, 100], [94, 100], [95, 100], [96, 100], [97, 100], [98, 100], [99, 100], [100, 100], [101, 100], [102, 100], [103, 100], [104, 100], [105, 100], [106, 100], [107, 100], [108, 100], [109, 100], [110, 100], [111, 100], [112, 100], [113, 100], [114, 100], [115, 100], [116, 100], [117, 100], [118, 100], [119, 100], [120, 100], [121, 100], [122, 100], [123, 100], [124, 100], [125, 100], [126, 100], [127, 100], [128, 100], [129, 100], [130, 100], [131, 100], [132, 100], [133, 100], [134, 100], [135, 100], [136, 100], [137, 100], [138, 100], [139, 100], [140, 100], [141, 100], [142, 100], [143, 100], [144, 100], [145, 100], [146, 100], [147, 100], [148, 100], [149, 100], [150, 100], [151, 100], [152, 100], [153, 100], [154, 100], [155, 100], [156, 100], [157, 100], [158, 100], [159, 100], [160, 100], [161, 100], [162, 100], [163, 100], [164, 100], [165, 100], [166, 100], [167, 100], [168, 100], [169, 100], [170, 100], [171, 100], [172, 100], [173, 100], [174, 100], [175, 100], [176, 100], [177, 100], [178, 100], [179, 100], [180, 100], [181, 100], [182, 100], [183, 100], [184, 100], [185, 100], [186, 100], [187, 100], [188, 100], [189, 100], [190, 100], [191, 100], [192, 100], [193, 100], [194, 100], [195, 100], [196, 100], [197, 100], [198, 100], [199, 100], [200, 100], [201, 100], [202, 100], [203, 100], [204, 100], [205, 100], [206, 100], [207, 100], [208, 100], [209, 100], [210, 100], [211, 100], [212, 100], [213, 100], [214, 100], [215, 100], [216, 100], [217, 100], [218, 100], [219, 100], [220, 100], [221, 100], [222, 100], [223, 100], [224, 100], [225, 100], [226, 100], [227, 100], [228, 100], [229, 100], [230, 100], [231, 100], [232, 100], [233, 100], [234, 100], [235, 100], [236, 100], [237, 100], [238, 100], [239, 100], [240, 100], [241, 100], [242, 100], [243, 100], [244, 100], [245, 100], [246, 100], [247, 100], [248, 100], [249, 100], [250, 100], [251, 100], [252, 100], [253, 100], [254, 100], [255, 100], [256, 100], [257, 100], [258, 100], [259, 100], [260, 100], [261, 100], [262, 100], [263, 100], [264, 100], [265, 100], [266, 100], [267, 100], [268, 100], [269, 100], [270, 100], [271, 100], [272, 100], [273, 100], [274, 100], [275, 100], [276, 100], [277, 100], [278, 100], [279, 100], [280, 100], [281, 100], [282, 100], [283, 100], [284, 100], [285, 100], [286, 100], [287, 100], [288, 100], [289, 100], [290, 100], [291, 100], [292, 100], [293, 100], [294, 100], [295, 100], [296, 100], [297, 100], [298, 100], [299, 100], [300, 100], [301, 100], [302, 100], [303, 100], [304, 100], [305, 100], [306, 100], [307, 100], [308, 100], [309, 100], [310, 100], [311, 100], [312, 100], [313, 100], [314, 100], [315, 100], [316, 100], [317, 100], [318, 100], [319, 100], [320, 100], [321, 100], [322, 100], [323, 100], [324, 100], [325, 100], [326, 100], [327, 100], [328, 100], [329, 100], [330, 100], [331, 100], [332, 100], [333, 100], [334, 100], [335, 100], [336, 100], [337, 100], [338, 100], [339, 100], [340, 100], [341, 100], [342, 100], [343, 100], [344, 100], [345, 100], [346, 100], [347, 100], [348, 100], [349, 100], [350, 100], [351, 100], [352, 100], [353, 100], [354, 100], [355, 100], [356, 100], [357, 100], [358, 100], [359, 100], [360, 100], [361, 100], [362, 100], [363, 100], [364, 100], [365, 100], [366, 100], [367, 100], [368, 100], [369, 100], [370, 100], [371, 100], [372, 100], [373, 100], [374, 100], [375, 100], [376, 100], [377, 100], [378, 100], [379, 100], [380, 100], [381, 100], [382, 100], [383, 100], [384, 100], [385, 100], [386, 100], [387, 100], [388, 100], [389, 100], [390, 100], [391, 100], [392, 100], [393, 100], [394, 100], [395, 100], [396, 100], [397, 100]]\n"
     ]
    }
   ],
   "source": [
    "# interpolating polynomials\n",
    "import pickle\n",
    "rfile = open('/Users/barrybrent/16mar21no13.txt','r') # H6 series\n",
    "rs=pickle.load(rfile)\n",
    "rfile.close()\n",
    "s=stripQuotationMarks(rs)\n",
    "data=[]\n",
    "for k in [0..len(s)-1]:\n",
    "    m = s[k][0]\n",
    "    poly=D(s[k][1])\n",
    "    data=data+[[k,poly.degree()]]\n",
    "print(data) # correctness check: all of the series have the right degree."
   ]
  },
  {
   "cell_type": "code",
   "execution_count": 16,
   "metadata": {},
   "outputs": [
    {
     "name": "stdout",
     "output_type": "stream",
     "text": [
      "[0, 1.6308491230010986]\n",
      "[1, 1.1170260906219482]\n",
      "[2, 1.0831561088562012]\n",
      "[3, 1.1159141063690186]\n",
      "[4, 1.1132071018218994]\n",
      "[5, 1.121748924255371]\n",
      "[6, 1.1123900413513184]\n",
      "[7, 1.1246509552001953]\n",
      "[8, 1.1100549697875977]\n",
      "[9, 1.120030164718628]\n",
      "[10, 1.1243479251861572]\n",
      "[11, 1.0846130847930908]\n",
      "[12, 1.1325738430023193]\n",
      "[13, 1.1253068447113037]\n",
      "[14, 1.1254000663757324]\n",
      "[15, 1.1348769664764404]\n",
      "[16, 1.1515848636627197]\n",
      "[17, 1.1625990867614746]\n",
      "[18, 1.1765599250793457]\n",
      "[19, 1.1864590644836426]\n",
      "[20, 1.1133451461791992]\n",
      "[21, 1.1472880840301514]\n",
      "[22, 1.1520378589630127]\n",
      "[23, 1.165959119796753]\n",
      "[24, 1.1609439849853516]\n",
      "[25, 1.1733391284942627]\n",
      "[26, 1.1751060485839844]\n",
      "[27, 1.1848740577697754]\n",
      "[28, 1.1893329620361328]\n",
      "[29, 1.147947072982788]\n",
      "[30, 1.187859058380127]\n",
      "[31, 1.234184980392456]\n",
      "[32, 1.2353529930114746]\n",
      "[33, 1.2241530418395996]\n",
      "[34, 1.2374320030212402]\n",
      "[35, 1.2255620956420898]\n",
      "[36, 1.2609128952026367]\n",
      "[37, 1.2560858726501465]\n",
      "[38, 1.2294819355010986]\n",
      "[39, 1.2569329738616943]\n",
      "[40, 1.2800559997558594]\n",
      "[41, 1.2712230682373047]\n",
      "[42, 1.2785570621490479]\n",
      "[43, 1.2957398891448975]\n",
      "[44, 1.2947659492492676]\n",
      "[45, 1.3119220733642578]\n",
      "[46, 1.3004629611968994]\n",
      "[47, 1.277310848236084]\n",
      "[48, 1.3419229984283447]\n",
      "[49, 1.337648868560791]\n",
      "[50, 1.3328218460083008]\n",
      "[51, 1.3368031978607178]\n",
      "[52, 1.3478641510009766]\n",
      "[53, 1.355497121810913]\n",
      "[54, 1.3813550472259521]\n",
      "[55, 1.3842711448669434]\n",
      "[56, 1.330744981765747]\n",
      "[57, 1.395902156829834]\n",
      "[58, 1.4062438011169434]\n",
      "[59, 1.4297020435333252]\n",
      "[60, 1.455880880355835]\n",
      "[61, 1.4411530494689941]\n",
      "[62, 1.4465289115905762]\n",
      "[63, 1.4602677822113037]\n",
      "[64, 1.4612491130828857]\n",
      "[65, 1.4379909038543701]\n",
      "[66, 1.477942943572998]\n",
      "[67, 1.499946117401123]\n",
      "[68, 1.5117380619049072]\n",
      "[69, 1.5161499977111816]\n",
      "[70, 1.528027057647705]\n",
      "[71, 1.5426487922668457]\n",
      "[72, 1.559617042541504]\n",
      "[73, 1.518186092376709]\n",
      "[74, 1.571070909500122]\n",
      "[75, 1.5747759342193604]\n",
      "[76, 1.5998780727386475]\n",
      "[77, 1.6261751651763916]\n",
      "[78, 1.6302268505096436]\n",
      "[79, 1.6405730247497559]\n",
      "[80, 1.6515381336212158]\n",
      "[81, 1.6665840148925781]\n",
      "[82, 1.626406192779541]\n",
      "[83, 1.6908090114593506]\n",
      "[84, 1.710972785949707]\n",
      "[85, 1.7029149532318115]\n",
      "[86, 1.712110996246338]\n",
      "[87, 1.7350058555603027]\n",
      "[88, 1.7376999855041504]\n",
      "[89, 1.7811200618743896]\n",
      "[90, 1.8015480041503906]\n",
      "[91, 1.754563808441162]\n",
      "[92, 1.8675899505615234]\n",
      "[93, 1.8148579597473145]\n",
      "[94, 1.821075201034546]\n",
      "[95, 1.8202099800109863]\n",
      "[96, 1.8493940830230713]\n",
      "[97, 1.8819139003753662]\n",
      "[98, 1.8872179985046387]\n",
      "[99, 1.8983001708984375]\n",
      "[100, 1.837860107421875]\n"
     ]
    }
   ],
   "source": [
    "import pickle\n",
    "rfile = open('/Users/barrybrent/16mar21no13.txt','r')\n",
    "rs=pickle.load(rfile)\n",
    "rfile.close()\n",
    "s=stripQuotationMarks(rs)\n",
    "polydata=[]\n",
    "import time\n",
    "wfile = open('/Users/barrybrent/16mar21no14.txt','w')\n",
    "enoughfile=[]\n",
    "for qpower in [0..100]:\n",
    "    start = time.time()\n",
    "    data=[]\n",
    "    for k in [0..len(s)-1]:\n",
    "        m = s[k][0]\n",
    "        poly=s[k][1] \n",
    "        cf=polynomialCoefficient(qpower,poly)\n",
    "        data=data+[[m,cf]]\n",
    "    rl=R.lagrange_polynomial(data)\n",
    "    polydata=polydata+[[qpower,rl]] \n",
    "    finish = time.time()\n",
    "    print([qpower,finish-start])\n",
    "t = pickle.dumps(str(polydata))\n",
    "wfile.write(t)\n",
    "wfile.close()"
   ]
  },
  {
   "cell_type": "code",
   "execution_count": 3,
   "metadata": {},
   "outputs": [
    {
     "name": "stdout",
     "output_type": "stream",
     "text": [
      "[[0, 0], [1, 3], [2, 6], [3, 9], [4, 12], [5, 15], [6, 18], [7, 21], [8, 24], [9, 27], [10, 30], [11, 33], [12, 36], [13, 39], [14, 42], [15, 45], [16, 48], [17, 51], [18, 54], [19, 57], [20, 60], [21, 63], [22, 66], [23, 69], [24, 72], [25, 75], [26, 78], [27, 81], [28, 84], [29, 87], [30, 90], [31, 93], [32, 96], [33, 99], [34, 102], [35, 105], [36, 108], [37, 111], [38, 114], [39, 117], [40, 120], [41, 123], [42, 126], [43, 129], [44, 132], [45, 135], [46, 138], [47, 141], [48, 144], [49, 147], [50, 150], [51, 153], [52, 156], [53, 159], [54, 162], [55, 165], [56, 168], [57, 171], [58, 174], [59, 177], [60, 180], [61, 183], [62, 186], [63, 189], [64, 192], [65, 195], [66, 198], [67, 201], [68, 204], [69, 207], [70, 210], [71, 213], [72, 216], [73, 219], [74, 222], [75, 225], [76, 228], [77, 231], [78, 234], [79, 237], [80, 240], [81, 243], [82, 246], [83, 249], [84, 252], [85, 255], [86, 258], [87, 261], [88, 264], [89, 267], [90, 270], [91, 273], [92, 276], [93, 279], [94, 282], [95, 285], [96, 288], [97, 291], [98, 294], [99, 297], [100, 300]]\n"
     ]
    }
   ],
   "source": [
    "# interpolating polynomials\n",
    "import pickle\n",
    "rfile = open('/Users/barrybrent/16mar21no14.txt','r') # H6 interpolating poly series\n",
    "rs=pickle.load(rfile)\n",
    "rfile.close()\n",
    "s=stripQuotationMarks(rs)\n",
    "data=[]\n",
    "for k in [0..len(s)-1]:\n",
    "    m = s[k][0]\n",
    "    poly=D(s[k][1])\n",
    "    data=data+[[k,poly.degree()]]\n",
    "print(data) # correctness check: all of the series have the right degree."
   ]
  },
  {
   "cell_type": "code",
   "execution_count": 17,
   "metadata": {},
   "outputs": [
    {
     "data": {
      "text/plain": [
       "101"
      ]
     },
     "execution_count": 17,
     "metadata": {},
     "output_type": "execute_result"
    }
   ],
   "source": [
    "import pickle\n",
    "rfile = open('/Users/barrybrent/16mar21no14.txt','r')\n",
    "rs=pickle.load(rfile)\n",
    "rfile.close()\n",
    "s=stripQuotationMarks(rs)\n",
    "len(s)"
   ]
  },
  {
   "cell_type": "code",
   "execution_count": 18,
   "metadata": {},
   "outputs": [
    {
     "data": {
      "text/plain": [
       "[0, 1]"
      ]
     },
     "execution_count": 18,
     "metadata": {},
     "output_type": "execute_result"
    }
   ],
   "source": [
    "s[0]"
   ]
  },
  {
   "cell_type": "code",
   "execution_count": 19,
   "metadata": {},
   "outputs": [
    {
     "data": {
      "text/plain": [
       "[1, -24*x^3 + 16*x^2]"
      ]
     },
     "execution_count": 19,
     "metadata": {},
     "output_type": "execute_result"
    }
   ],
   "source": [
    "s[1]"
   ]
  },
  {
   "cell_type": "code",
   "execution_count": 20,
   "metadata": {},
   "outputs": [
    {
     "data": {
      "text/plain": [
       "[2, 24*x^6 - 400*x^5 + 928*x^4 - 448*x^3]"
      ]
     },
     "execution_count": 20,
     "metadata": {},
     "output_type": "execute_result"
    }
   ],
   "source": [
    "s[2]"
   ]
  },
  {
   "cell_type": "code",
   "execution_count": null,
   "metadata": {},
   "outputs": [],
   "source": [
    "# Following cells indicate that the SageMath file essentially agrees with the Mathematica file.\n",
    "# For me this was a question, because of my use of the Mathematica \"Refine\" command."
   ]
  },
  {
   "cell_type": "code",
   "execution_count": 23,
   "metadata": {},
   "outputs": [
    {
     "name": "stdout",
     "output_type": "stream",
     "text": [
      "{3, 1 - 504*x - 16632*x^2 - 122976*x^3 - 532728*x^4 - 1575504*x^5 - \n",
      "\n",
      "  4058208*x^6 - 8471232*x^7 - 17047800*x^8 - 29883672*x^9 - 51991632*x^10 - \n",
      "\n",
      "  81170208*x^11 - 129985632*x^12 - 187132176*x^13 - 279550656*x^14 - \n",
      "\n",
      "  384422976*x^15 - 545530104*x^16 - 715608432*x^17 - 986161176*x^18 - \n",
      "\n",
      "  1247954400*x^19 - 1665307728*x^20 - 2066980608*x^21 - 2678616864*x^22 - \n",
      "\n",
      "  3243917376*x^23 - 4159663200*x^24 - 4923450504*x^25 - 6175361808*x^26 - \n",
      "\n",
      "  7261732800*x^27 - 8954092224*x^28 - 10337619600*x^29 - 12685958208*x^30 - \n",
      "\n",
      "  14429092608*x^31 - 17456963832*x^32 - 19805530752*x^33 - 23615078256*x^34 - \n",
      "\n",
      "  26481071232*x^35 - 31587041304*x^36 - 34949354832*x^37 - 41182495200*x^38 - \n",
      "\n",
      "  45660250944*x^39 - 53291422800*x^40 - 58391525808*x^41 - 68210360064*x^42 - \n",
      "\n",
      "  74092255776*x^43 - 85796909856*x^44 - 93416358672*x^45 - \n",
      "\n",
      "  107049273408*x^46 - 115589884032*x^47 - 133109345376*x^48 - \n",
      "\n",
      "  142375996728*x^49 - 162473866632*x^50 - 174608457408*x^51 - \n",
      "\n",
      "  197798710032*x^52 - 210770528976*x^53 - 239637182400*x^54 - \n",
      "\n",
      "  253738070208*x^55 - 286539422400*x^56 - 304500873600*x^57 - \n",
      "\n",
      "  341141446800*x^58 - 360321847200*x^59 - 406335085632*x^60 - \n",
      "\n",
      "  425676536208*x^61 - 476160056064*x^62 - 502284758976*x^63 - \n",
      "\n",
      "  558622843128*x^64 - 584975182176*x^65 - 653582514816*x^66 - \n",
      "\n",
      "  680463054432*x^67 - 756398112624*x^68 - 791515839744*x^69 - \n",
      "\n",
      "  873875350656*x^70 - 909331593408*x^71 - 1010815205400*x^72 - \n",
      "\n",
      "  1044828083376*x^73 - 1153328709456*x^74 - 1201321922976*x^75 - \n",
      "\n",
      "  1319087800800*x^76 - 1364308856064*x^77 - 1506788281152*x^78 - \n",
      "\n",
      "  1550836425600*x^79 - 1705327105104*x^80 - 1764601070904*x^81 - \n",
      "\n",
      "  1926920351664*x^82 - 1985276484576*x^83 - 2184798502656*x^84 - \n",
      "\n",
      "  2236991958432*x^85 - 2445044440608*x^86 - 2522379182400*x^87 - \n",
      "\n",
      "  2745582285600*x^88 - 2814365962800*x^89 - 3082739836176*x^90 - \n",
      "\n",
      "  3145317614208*x^91 - 3428820666432*x^92 - 3520698596352*x^93 - \n",
      "\n",
      "  3814466173056*x^94 - 3901105454400*x^95 - 4259499175008*x^96 - \n",
      "\n",
      "  4328019490032*x^97 - 4698407892024*x^98 - 4812825142944*x^99 - \n",
      "\n",
      "  5204087182728*x^100}\n",
      "\n"
     ]
    }
   ],
   "source": [
    "import pickle\n",
    "rtfile = open('/Users/barrybrent/run6sept20no10','r')\n",
    "# Mathematica file\n",
    "L=rtfile.readlines()\n",
    "rtfile.close()\n",
    "for n in [0..29]:\n",
    "    print(L[n])"
   ]
  },
  {
   "cell_type": "code",
   "execution_count": 5,
   "metadata": {},
   "outputs": [
    {
     "data": {
      "text/plain": [
       "[3,\n",
       " -5204087182728*x^100 - 4812825142944*x^99 - 4698407892024*x^98 - 4328019490032*x^97 - 4259499175008*x^96 - 3901105454400*x^95 - 3814466173056*x^94 - 3520698596352*x^93 - 3428820666432*x^92 - 3145317614208*x^91 - 3082739836176*x^90 - 2814365962800*x^89 - 2745582285600*x^88 - 2522379182400*x^87 - 2445044440608*x^86 - 2236991958432*x^85 - 2184798502656*x^84 - 1985276484576*x^83 - 1926920351664*x^82 - 1764601070904*x^81 - 1705327105104*x^80 - 1550836425600*x^79 - 1506788281152*x^78 - 1364308856064*x^77 - 1319087800800*x^76 - 1201321922976*x^75 - 1153328709456*x^74 - 1044828083376*x^73 - 1010815205400*x^72 - 909331593408*x^71 - 873875350656*x^70 - 791515839744*x^69 - 756398112624*x^68 - 680463054432*x^67 - 653582514816*x^66 - 584975182176*x^65 - 558622843128*x^64 - 502284758976*x^63 - 476160056064*x^62 - 425676536208*x^61 - 406335085632*x^60 - 360321847200*x^59 - 341141446800*x^58 - 304500873600*x^57 - 286539422400*x^56 - 253738070208*x^55 - 239637182400*x^54 - 210770528976*x^53 - 197798710032*x^52 - 174608457408*x^51 - 162473866632*x^50 - 142375996728*x^49 - 133109345376*x^48 - 115589884032*x^47 - 107049273408*x^46 - 93416358672*x^45 - 85796909856*x^44 - 74092255776*x^43 - 68210360064*x^42 - 58391525808*x^41 - 53291422800*x^40 - 45660250944*x^39 - 41182495200*x^38 - 34949354832*x^37 - 31587041304*x^36 - 26481071232*x^35 - 23615078256*x^34 - 19805530752*x^33 - 17456963832*x^32 - 14429092608*x^31 - 12685958208*x^30 - 10337619600*x^29 - 8954092224*x^28 - 7261732800*x^27 - 6175361808*x^26 - 4923450504*x^25 - 4159663200*x^24 - 3243917376*x^23 - 2678616864*x^22 - 2066980608*x^21 - 1665307728*x^20 - 1247954400*x^19 - 986161176*x^18 - 715608432*x^17 - 545530104*x^16 - 384422976*x^15 - 279550656*x^14 - 187132176*x^13 - 129985632*x^12 - 81170208*x^11 - 51991632*x^10 - 29883672*x^9 - 17047800*x^8 - 8471232*x^7 - 4058208*x^6 - 1575504*x^5 - 532728*x^4 - 122976*x^3 - 16632*x^2 - 504*x + 1]"
      ]
     },
     "execution_count": 5,
     "metadata": {},
     "output_type": "execute_result"
    }
   ],
   "source": [
    "import pickle\n",
    "rsfile = open('/Users/barrybrent/8mar21no13.txt','r')\n",
    "# SageMath file\n",
    "rs=pickle.load(rsfile)\n",
    "rsfile.close()\n",
    "s=stripQuotationMarks(rs)\n",
    "s[0]"
   ]
  },
  {
   "cell_type": "code",
   "execution_count": 35,
   "metadata": {},
   "outputs": [
    {
     "name": "stdout",
     "output_type": "stream",
     "text": [
      "{4, 1 - 1280*x - 102400*x^2 - 9175040*x^3 - 193986560*x^4 - 10569646080*x^5 - \n",
      "\n",
      "  187904819200*x^6 - 7387343749120*x^7 - 100674033418240*x^8 - \n",
      "\n",
      "  4161651511132160*x^9 - 55415386039910400*x^10 - 1874623344892968960*x^11 - \n",
      "\n",
      "  23328646069779169280*x^12 - 791912958476828016640*x^13 - \n",
      "\n",
      "  9915124939618883993600*x^14 - 325400565460236490506240*x^15 - \n",
      "\n",
      "  3454706230124324826644480*x^16 - 116028544484107182900510720*x^17 - \n",
      "\n",
      "  1429932571012928570707148800*x^18 - 41466155612781780692421836800*x^19 - \n",
      "\n",
      "  450880973683472096998415400960*x^20 - 14904798072995978509785455656960*\n",
      "\n",
      "   x^21 - 164893613232812652616563346636800*x^22 - \n",
      "\n",
      "  4820241407367842299191213938442240*x^23 - \n",
      "\n",
      "  51999027621361970049394765484523520*x^24 - \n",
      "\n",
      "  1597341168335587304237965775030190080*x^25 - \n",
      "\n",
      "  17832294523530548636734423330665267200*x^26 - \n",
      "\n",
      "  530652738942259383635816724846293811200*x^27 - \n",
      "\n",
      "  5287004353234502884474892582265070551040*x^28 - \n",
      "\n",
      "  162099354085970490700619271001188021043200*x^29 - \n",
      "\n",
      "  1875806547651673279841852523467622265651200*x^30 - \n",
      "\n",
      "  50688461376542993517504281523036192778485760*x^31 - \n",
      "\n",
      "  509742985647565818268135161932788780761088000*x^32 - \n",
      "\n",
      "  16244699080554650794662424779232290834512609280*x^33 - \n",
      "\n",
      "  171227909227467940808603936862178200688105881600*x^34 - \n",
      "\n",
      "  4833017499425556647233620864048352905576075755520*x^35 - \n",
      "\n",
      "  49969725781251537885701914647888636593680437739520*x^36 - \n",
      "\n",
      "  1445916092526553836302528349929894532766632949841920*x^37 - \n",
      "\n",
      "  15665470675140615654495746800677658616937026945024000*x^38 - \n",
      "\n",
      "  449733283839465445989637896723454610808523562124574720*x^39 - \n",
      "\n",
      "  4316457395758581914739490932337578921572617409727037440*x^40 - \n",
      "\n",
      "  128933908285594228388395988531803722599329513890549596160*x^41 - \n",
      "\n",
      "  1441503618126976707393320172413259575841376486803950796800*x^42 - \n",
      "\n",
      "  38076767332239091046986079823333369553487096914554325565440*x^43 - \n",
      "\n",
      "  377637551180172332476663874430379189027329694488483248209920*x^44 - \n",
      "\n",
      "  11693799174309616887034868491492063244153805996169307420098560*x^45 - \n",
      "\n",
      "  119343396744039268022427946408735757736146032887872456176435200*x^46 - \n",
      "\n",
      "  3258569052873933718122435005375563789927054758330169596334571520*x^47 - \n",
      "\n",
      "  32916117164090092056632666008993289459414175573898282740104560640*x^48 - \n",
      "\n",
      "  948037203281255197910113665808053994797011489227065375078576291840*x^49 - \n",
      "\n",
      "  10124352454049342332024577966586260860930887742029107979532789350400*x^50 - \n",
      "\n",
      "  283010328813674227190233149708038713351980741530319400697327266037760*\n",
      "\n",
      "   x^51 - \n",
      "\n",
      "  2676446072574088051685900474813181743364519540170330319333779549716480*\n",
      "\n",
      "   x^52 - \n",
      "\n",
      "  78393416795157284206063200627447433113862320065214752926596548568023040*\n",
      "\n",
      "   x^53 - \n",
      "\n",
      "  861033296682123558442177794341689454639286299994889533615246552334336000*\n",
      "\n",
      "   x^54 - \n",
      "\n",
      "  22623708845206130890092772380423393276089346113619146803242905576732098560*\n",
      "\n",
      "   x^55 - 2173877555580357828947262227720706091885788048509367505212316067391\\\n",
      "\n",
      "18325760*x^56 - \n",
      "\n",
      "  662843719145765746145233953013085524453404505687243924757808826453684387840\\\n",
      "\n",
      "0*x^57 - \n",
      "\n",
      "  673334373592887403102134781923746603141130191324942912321655863273859317760\\\n",
      "\n",
      "00*x^58 - 1814375250820922868049088203512903023903243213701573108095077408107\\\n",
      "\n",
      "391247974400*x^59 - 184509718758328941477188258045582089105645150370044637053\\\n",
      "\n",
      "88958967354673206394880*x^60 - 5133343749856348568287693226414452871162290558\\\n",
      "\n",
      "47195830211018776040705820154920960*x^61 - 5390121753997068896967229352154422\\\n",
      "\n",
      "110569717786185568256036750535568356184739020800*x^62 - \n",
      "\n",
      "  150765931870555179089306365320712003541271650834050640001935352681663211316\\\n",
      "\n",
      "382269440*x^63 - 138762460731858033006917302730771380261570271143671676571349\\\n",
      "\n",
      "0216930669046453879439360*x^64 - 41047536038523194483413935559918206341308692\\\n",
      "\n",
      "112870173349887614689054112547226874019840*x^65 - \n",
      "\n",
      "  442222772243962350030592353984924079236665072444388400784958469443494715704\\\n",
      "\n",
      "427832934400*x^66 - 114118138027613120758988484559349382897929072371226111517\\\n",
      "\n",
      "53517726615465008505065014558720*x^67 - 1103788039520930025676358515546370501\\\n",
      "\n",
      "77471602082119344835925633973096281039825187100426240*x^68 - \n",
      "\n",
      "  330937531128437398689272174751200092784347289846210071724288747623841822793\\\n",
      "\n",
      "2776780812779520*x^69 - 33681216185852800339973262755743441395803392812750374\\\n",
      "\n",
      "163655422835089226935173822857976217600*x^70 - 889989770949497783335585855993\\\n",
      "\n",
      "624702610172309220901581222756714488922509473749227518935695360*x^71 - \n",
      "\n",
      "  882454329271416696133647504169704073240970197624020168608098804311037356775\\\n",
      "\n",
      "0153218128588308480*x^72 - 24763864420052784634624318900426233545497504111472\\\n",
      "\n",
      "9746359365651664669595147291787114391525130240*x^73 - \n",
      "\n",
      "  257960050863117645534604619751721603424752700031885837099307645803992075895\\\n",
      "\n",
      "5301437875345267097600*x^74 - 71871192205667658372384005205424898528976560217\\\n",
      "\n",
      "736042619644460007829126069761988868372110235402240*x^75 - \n",
      "\n",
      "  661811803536920650773320812329047506992747145830768562094675416134565198727\\\n",
      "\n",
      "590557137241500129689600*x^76 - 191157489795946946686339473816511354556225787\\\n",
      "\n",
      "84765569383044805489003977658408120022361746326778019840*x^77 - \n",
      "\n",
      "  205401853341744515798311274819529555220482573631121621990032388612204204380\\\n",
      "\n",
      "380846891583091685038489600*x^78 - 526563524095222753512020751004917987291858\\\n",
      "\n",
      "7188513620408473446971603336067994435083916606136716047155200*x^79 - \n",
      "\n",
      "  504034841629957730690983978065606487228721073713161952752159259914311090907\\\n",
      "\n",
      "68993638245842794826726113280*x^80 - 1508877646554966754793276127004874995915\\\n",
      "\n",
      "590623363471215783863385045164088938938479855644594560824959303680*x^81 - \n",
      "\n",
      "  150749694453494747851601598497400699742871143516021987543336961734986780610\\\n",
      "\n",
      "81938738041097518678291565772800*x^82 - 4002059895751132231081933771005217552\\\n",
      "\n",
      "80818573616501808831685927519338945761988083324200368788370527973539840*\n",
      "\n",
      "   x^83 - 3991045950981472878876517548590522228070522544432366699228988578789\\\n",
      "\n",
      "400011093352391793093222810542151743569920*x^84 - \n",
      "\n",
      "  110941545083662237298047055376470418641512841011983563570145348136731618410\\\n",
      "\n",
      "191453726864450579521707858586501120*x^85 - 113969679975086628590720717339798\\\n",
      "\n",
      "95530553330572424480974133013340123466502002703132501939695042492067911565312\\\n",
      "\n",
      "00*x^86 - 3132552149663879273418523611639402427217580324805605090045748340388\\\n",
      "\n",
      "2347410766960902543541405799340677237676441600*x^87 - \n",
      "\n",
      "  286431189073325167764935915435173530530022463268044826831299591001782627964\\\n",
      "\n",
      "259039025387059466754371982653579591680*x^88 - 827826032289034605332623568159\\\n",
      "\n",
      "28946209451746325194912962625945810053069821752275719430194144565519628821160\\\n",
      "\n",
      "00153600*x^89 - 8960347545205350437702177531318421773805894115198934636312113\\\n",
      "\n",
      "0978674064493392633021781815145574403373036808752332800*x^90 - \n",
      "\n",
      "  227297437356324939469564281983946137400714506677781446922269592456596688690\\\n",
      "\n",
      "8744728837407202645381418991209495773839360*x^91 - \n",
      "\n",
      "  216545576436962119788030033175369350987155516301170306848840440225657859778\\\n",
      "\n",
      "76450406040631465099203100758541048930631680*x^92 - \n",
      "\n",
      "  641957185954757052566056260831589827919261652064058289837547570288673421962\\\n",
      "\n",
      "118303886466932957712488077841986532073799680*x^93 - \n",
      "\n",
      "  639199045521009439021196728024579774952906070315125708570791189750376221438\\\n",
      "\n",
      "1134991436679343198705439829855225727523225600*x^94 - \n",
      "\n",
      "  170287590379577660259627555504800670142793617179097567409538934434469160352\\\n",
      "\n",
      "056644820410175900361628416438084848507997388800*x^95 - \n",
      "\n",
      "  165267774790157003607983205796042373744026458396040269504042321854768255398\\\n",
      "\n",
      "3679001885159983794892901637993204425429090304000*x^96 - \n",
      "\n",
      "  460303188522088126983520776247788449099998028274339597724454921400659966362\\\n",
      "\n",
      "61689852879237171085869436873661944864362222059520*x^97 - \n",
      "\n",
      "  476074077914232195655110735722111531387164024395779015545981233525469741975\\\n",
      "\n",
      "989286059274600264973911163463317141531867165491200*x^98 - \n",
      "\n",
      "  130187226303605200837810752159538247258581313192436698467573088251224598641\\\n",
      "\n",
      "12546903668712606004208493723878149881243217554309120*x^99 - \n",
      "\n",
      "  120392132776050815699184333319529542496398899990845174669763317953620352455\\\n",
      "\n",
      "386306343570170120165734909522856150758527473769512960*x^100}\n",
      "\n"
     ]
    }
   ],
   "source": [
    "import pickle\n",
    "rtfile = open('/Users/barrybrent/run6sept20no10','r')\n",
    "# Mathematica file\n",
    "L=rtfile.readlines()\n",
    "rtfile.close()\n",
    "for n in [30..147]:\n",
    "    print(L[n])"
   ]
  },
  {
   "cell_type": "code",
   "execution_count": null,
   "metadata": {},
   "outputs": [],
   "source": []
  }
 ],
 "metadata": {
  "kernelspec": {
   "display_name": "SageMath 9.1",
   "language": "sage",
   "name": "sagemath"
  },
  "language_info": {
   "codemirror_mode": {
    "name": "ipython",
    "version": 2
   },
   "file_extension": ".py",
   "mimetype": "text/x-python",
   "name": "python",
   "nbconvert_exporter": "python",
   "pygments_lexer": "ipython2",
   "version": "2.7.15"
  }
 },
 "nbformat": 4,
 "nbformat_minor": 4
}
